{
 "cells": [
  {
   "cell_type": "markdown",
   "metadata": {},
   "source": [
    "# Predictive Maintenance"
   ]
  },
  {
   "cell_type": "markdown",
   "metadata": {},
   "source": [
    "BACKGROUND A company has a fleet of devices transmitting daily telemetry readings. They would like to create a predictive maintenance solution to proactively identify when maintenance should be performed. This approach promises cost savings over routine or time-based preventive maintenance, because tasks are performed only when warranted. GOAL you are tasked with building a predictive model-using machine learning to predict the probability of a device failure. When building this model, be sure to minimize false positives and false negatives. The column you are trying to predict is called failure with binary value 0 for non-failure and 1 for failure. \n",
    "DATA Download link: http://aws-proserve-data-science.s3.amazonaws.com/predictive_maintenance.csv\n"
   ]
  },
  {
   "cell_type": "markdown",
   "metadata": {},
   "source": [
    "## Load Libraries"
   ]
  },
  {
   "cell_type": "code",
   "execution_count": 1,
   "metadata": {},
   "outputs": [],
   "source": [
    "import pandas as pd\n",
    "import numpy as np\n",
    "from datetime import datetime, timedelta\n",
    "from functools import reduce\n",
    "import matplotlib.pyplot as plt\n",
    "from sklearn.preprocessing import MinMaxScaler\n",
    "from sklearn.model_selection import train_test_split\n",
    "from sklearn.ensemble import RandomForestClassifier,AdaBoostClassifier,GradientBoostingClassifier\n",
    "from sklearn.linear_model import LogisticRegression\n",
    "from sklearn.svm import LinearSVC\n",
    "from sklearn import metrics\n",
    "from tqdm import tqdm"
   ]
  },
  {
   "cell_type": "markdown",
   "metadata": {},
   "source": [
    "## Process and analyze data"
   ]
  },
  {
   "cell_type": "code",
   "execution_count": 2,
   "metadata": {},
   "outputs": [],
   "source": [
    "raw_data = pd.read_csv('predictive_maintenance.csv')"
   ]
  },
  {
   "cell_type": "code",
   "execution_count": 3,
   "metadata": {},
   "outputs": [
    {
     "data": {
      "text/plain": [
       "(124494, 12)"
      ]
     },
     "execution_count": 3,
     "metadata": {},
     "output_type": "execute_result"
    }
   ],
   "source": [
    "raw_data.shape"
   ]
  },
  {
   "cell_type": "code",
   "execution_count": 4,
   "metadata": {},
   "outputs": [
    {
     "data": {
      "text/plain": [
       "date       object\n",
       "device     object\n",
       "failure     int64\n",
       "metric1     int64\n",
       "metric2     int64\n",
       "metric3     int64\n",
       "metric4     int64\n",
       "metric5     int64\n",
       "metric6     int64\n",
       "metric7     int64\n",
       "metric8     int64\n",
       "metric9     int64\n",
       "dtype: object"
      ]
     },
     "execution_count": 4,
     "metadata": {},
     "output_type": "execute_result"
    }
   ],
   "source": [
    "raw_data.dtypes"
   ]
  },
  {
   "cell_type": "code",
   "execution_count": 5,
   "metadata": {},
   "outputs": [
    {
     "data": {
      "text/html": [
       "<div>\n",
       "<style scoped>\n",
       "    .dataframe tbody tr th:only-of-type {\n",
       "        vertical-align: middle;\n",
       "    }\n",
       "\n",
       "    .dataframe tbody tr th {\n",
       "        vertical-align: top;\n",
       "    }\n",
       "\n",
       "    .dataframe thead th {\n",
       "        text-align: right;\n",
       "    }\n",
       "</style>\n",
       "<table border=\"1\" class=\"dataframe\">\n",
       "  <thead>\n",
       "    <tr style=\"text-align: right;\">\n",
       "      <th></th>\n",
       "      <th>date</th>\n",
       "      <th>device</th>\n",
       "      <th>failure</th>\n",
       "      <th>metric1</th>\n",
       "      <th>metric2</th>\n",
       "      <th>metric3</th>\n",
       "      <th>metric4</th>\n",
       "      <th>metric5</th>\n",
       "      <th>metric6</th>\n",
       "      <th>metric7</th>\n",
       "      <th>metric8</th>\n",
       "      <th>metric9</th>\n",
       "    </tr>\n",
       "  </thead>\n",
       "  <tbody>\n",
       "    <tr>\n",
       "      <th>0</th>\n",
       "      <td>1/1/15</td>\n",
       "      <td>S1F01085</td>\n",
       "      <td>0</td>\n",
       "      <td>215630672</td>\n",
       "      <td>56</td>\n",
       "      <td>0</td>\n",
       "      <td>52</td>\n",
       "      <td>6</td>\n",
       "      <td>407438</td>\n",
       "      <td>0</td>\n",
       "      <td>0</td>\n",
       "      <td>7</td>\n",
       "    </tr>\n",
       "    <tr>\n",
       "      <th>1</th>\n",
       "      <td>1/1/15</td>\n",
       "      <td>S1F0166B</td>\n",
       "      <td>0</td>\n",
       "      <td>61370680</td>\n",
       "      <td>0</td>\n",
       "      <td>3</td>\n",
       "      <td>0</td>\n",
       "      <td>6</td>\n",
       "      <td>403174</td>\n",
       "      <td>0</td>\n",
       "      <td>0</td>\n",
       "      <td>0</td>\n",
       "    </tr>\n",
       "    <tr>\n",
       "      <th>2</th>\n",
       "      <td>1/1/15</td>\n",
       "      <td>S1F01E6Y</td>\n",
       "      <td>0</td>\n",
       "      <td>173295968</td>\n",
       "      <td>0</td>\n",
       "      <td>0</td>\n",
       "      <td>0</td>\n",
       "      <td>12</td>\n",
       "      <td>237394</td>\n",
       "      <td>0</td>\n",
       "      <td>0</td>\n",
       "      <td>0</td>\n",
       "    </tr>\n",
       "    <tr>\n",
       "      <th>3</th>\n",
       "      <td>1/1/15</td>\n",
       "      <td>S1F01JE0</td>\n",
       "      <td>0</td>\n",
       "      <td>79694024</td>\n",
       "      <td>0</td>\n",
       "      <td>0</td>\n",
       "      <td>0</td>\n",
       "      <td>6</td>\n",
       "      <td>410186</td>\n",
       "      <td>0</td>\n",
       "      <td>0</td>\n",
       "      <td>0</td>\n",
       "    </tr>\n",
       "    <tr>\n",
       "      <th>4</th>\n",
       "      <td>1/1/15</td>\n",
       "      <td>S1F01R2B</td>\n",
       "      <td>0</td>\n",
       "      <td>135970480</td>\n",
       "      <td>0</td>\n",
       "      <td>0</td>\n",
       "      <td>0</td>\n",
       "      <td>15</td>\n",
       "      <td>313173</td>\n",
       "      <td>0</td>\n",
       "      <td>0</td>\n",
       "      <td>3</td>\n",
       "    </tr>\n",
       "  </tbody>\n",
       "</table>\n",
       "</div>"
      ],
      "text/plain": [
       "     date    device  failure    metric1  metric2  metric3  metric4  metric5  \\\n",
       "0  1/1/15  S1F01085        0  215630672       56        0       52        6   \n",
       "1  1/1/15  S1F0166B        0   61370680        0        3        0        6   \n",
       "2  1/1/15  S1F01E6Y        0  173295968        0        0        0       12   \n",
       "3  1/1/15  S1F01JE0        0   79694024        0        0        0        6   \n",
       "4  1/1/15  S1F01R2B        0  135970480        0        0        0       15   \n",
       "\n",
       "   metric6  metric7  metric8  metric9  \n",
       "0   407438        0        0        7  \n",
       "1   403174        0        0        0  \n",
       "2   237394        0        0        0  \n",
       "3   410186        0        0        0  \n",
       "4   313173        0        0        3  "
      ]
     },
     "execution_count": 5,
     "metadata": {},
     "output_type": "execute_result"
    }
   ],
   "source": [
    "raw_data.head()"
   ]
  },
  {
   "cell_type": "code",
   "execution_count": 6,
   "metadata": {},
   "outputs": [
    {
     "name": "stdout",
     "output_type": "stream",
     "text": [
      "Series([], dtype: int64)\n"
     ]
    }
   ],
   "source": [
    "#Look at any other nulls\n",
    "count_nan = len(raw_data) - raw_data.count()\n",
    "print(count_nan[count_nan > 0])"
   ]
  },
  {
   "cell_type": "code",
   "execution_count": 7,
   "metadata": {},
   "outputs": [
    {
     "data": {
      "text/plain": [
       "date          304\n",
       "device       1169\n",
       "failure         2\n",
       "metric1    123877\n",
       "metric2       558\n",
       "metric3        47\n",
       "metric4       115\n",
       "metric5        60\n",
       "metric6     44838\n",
       "metric7        28\n",
       "metric8        28\n",
       "metric9        65\n",
       "dtype: int64"
      ]
     },
     "execution_count": 7,
     "metadata": {},
     "output_type": "execute_result"
    }
   ],
   "source": [
    "#Let's look at number of unique values per column\n",
    "raw_data.apply(pd.Series.nunique)"
   ]
  },
  {
   "cell_type": "markdown",
   "metadata": {},
   "source": [
    "Metrics with a low number of unique values could indicate that the variable may not be continuous. Another important note is that there are only 1169 devices. This could mean that the same device could be fixed, and then appear again as a new entry."
   ]
  },
  {
   "cell_type": "code",
   "execution_count": 8,
   "metadata": {},
   "outputs": [
    {
     "data": {
      "text/html": [
       "<div>\n",
       "<style scoped>\n",
       "    .dataframe tbody tr th:only-of-type {\n",
       "        vertical-align: middle;\n",
       "    }\n",
       "\n",
       "    .dataframe tbody tr th {\n",
       "        vertical-align: top;\n",
       "    }\n",
       "\n",
       "    .dataframe thead th {\n",
       "        text-align: right;\n",
       "    }\n",
       "</style>\n",
       "<table border=\"1\" class=\"dataframe\">\n",
       "  <thead>\n",
       "    <tr style=\"text-align: right;\">\n",
       "      <th></th>\n",
       "      <th>failure</th>\n",
       "      <th>metric1</th>\n",
       "      <th>metric2</th>\n",
       "      <th>metric3</th>\n",
       "      <th>metric4</th>\n",
       "      <th>metric5</th>\n",
       "      <th>metric6</th>\n",
       "      <th>metric7</th>\n",
       "      <th>metric8</th>\n",
       "      <th>metric9</th>\n",
       "    </tr>\n",
       "  </thead>\n",
       "  <tbody>\n",
       "    <tr>\n",
       "      <th>count</th>\n",
       "      <td>124494.000000</td>\n",
       "      <td>1.244940e+05</td>\n",
       "      <td>124494.000000</td>\n",
       "      <td>124494.000000</td>\n",
       "      <td>124494.000000</td>\n",
       "      <td>124494.000000</td>\n",
       "      <td>124494.000000</td>\n",
       "      <td>124494.000000</td>\n",
       "      <td>124494.000000</td>\n",
       "      <td>124494.000000</td>\n",
       "    </tr>\n",
       "    <tr>\n",
       "      <th>mean</th>\n",
       "      <td>0.000851</td>\n",
       "      <td>1.223881e+08</td>\n",
       "      <td>159.484762</td>\n",
       "      <td>9.940455</td>\n",
       "      <td>1.741120</td>\n",
       "      <td>14.222669</td>\n",
       "      <td>260172.657726</td>\n",
       "      <td>0.292528</td>\n",
       "      <td>0.292528</td>\n",
       "      <td>12.451524</td>\n",
       "    </tr>\n",
       "    <tr>\n",
       "      <th>std</th>\n",
       "      <td>0.029167</td>\n",
       "      <td>7.045933e+07</td>\n",
       "      <td>2179.657730</td>\n",
       "      <td>185.747321</td>\n",
       "      <td>22.908507</td>\n",
       "      <td>15.943028</td>\n",
       "      <td>99151.078547</td>\n",
       "      <td>7.436924</td>\n",
       "      <td>7.436924</td>\n",
       "      <td>191.425623</td>\n",
       "    </tr>\n",
       "    <tr>\n",
       "      <th>min</th>\n",
       "      <td>0.000000</td>\n",
       "      <td>0.000000e+00</td>\n",
       "      <td>0.000000</td>\n",
       "      <td>0.000000</td>\n",
       "      <td>0.000000</td>\n",
       "      <td>1.000000</td>\n",
       "      <td>8.000000</td>\n",
       "      <td>0.000000</td>\n",
       "      <td>0.000000</td>\n",
       "      <td>0.000000</td>\n",
       "    </tr>\n",
       "    <tr>\n",
       "      <th>25%</th>\n",
       "      <td>0.000000</td>\n",
       "      <td>6.128476e+07</td>\n",
       "      <td>0.000000</td>\n",
       "      <td>0.000000</td>\n",
       "      <td>0.000000</td>\n",
       "      <td>8.000000</td>\n",
       "      <td>221452.000000</td>\n",
       "      <td>0.000000</td>\n",
       "      <td>0.000000</td>\n",
       "      <td>0.000000</td>\n",
       "    </tr>\n",
       "    <tr>\n",
       "      <th>50%</th>\n",
       "      <td>0.000000</td>\n",
       "      <td>1.227974e+08</td>\n",
       "      <td>0.000000</td>\n",
       "      <td>0.000000</td>\n",
       "      <td>0.000000</td>\n",
       "      <td>10.000000</td>\n",
       "      <td>249799.500000</td>\n",
       "      <td>0.000000</td>\n",
       "      <td>0.000000</td>\n",
       "      <td>0.000000</td>\n",
       "    </tr>\n",
       "    <tr>\n",
       "      <th>75%</th>\n",
       "      <td>0.000000</td>\n",
       "      <td>1.833096e+08</td>\n",
       "      <td>0.000000</td>\n",
       "      <td>0.000000</td>\n",
       "      <td>0.000000</td>\n",
       "      <td>12.000000</td>\n",
       "      <td>310266.000000</td>\n",
       "      <td>0.000000</td>\n",
       "      <td>0.000000</td>\n",
       "      <td>0.000000</td>\n",
       "    </tr>\n",
       "    <tr>\n",
       "      <th>max</th>\n",
       "      <td>1.000000</td>\n",
       "      <td>2.441405e+08</td>\n",
       "      <td>64968.000000</td>\n",
       "      <td>24929.000000</td>\n",
       "      <td>1666.000000</td>\n",
       "      <td>98.000000</td>\n",
       "      <td>689161.000000</td>\n",
       "      <td>832.000000</td>\n",
       "      <td>832.000000</td>\n",
       "      <td>18701.000000</td>\n",
       "    </tr>\n",
       "  </tbody>\n",
       "</table>\n",
       "</div>"
      ],
      "text/plain": [
       "             failure       metric1        metric2        metric3  \\\n",
       "count  124494.000000  1.244940e+05  124494.000000  124494.000000   \n",
       "mean        0.000851  1.223881e+08     159.484762       9.940455   \n",
       "std         0.029167  7.045933e+07    2179.657730     185.747321   \n",
       "min         0.000000  0.000000e+00       0.000000       0.000000   \n",
       "25%         0.000000  6.128476e+07       0.000000       0.000000   \n",
       "50%         0.000000  1.227974e+08       0.000000       0.000000   \n",
       "75%         0.000000  1.833096e+08       0.000000       0.000000   \n",
       "max         1.000000  2.441405e+08   64968.000000   24929.000000   \n",
       "\n",
       "             metric4        metric5        metric6        metric7  \\\n",
       "count  124494.000000  124494.000000  124494.000000  124494.000000   \n",
       "mean        1.741120      14.222669  260172.657726       0.292528   \n",
       "std        22.908507      15.943028   99151.078547       7.436924   \n",
       "min         0.000000       1.000000       8.000000       0.000000   \n",
       "25%         0.000000       8.000000  221452.000000       0.000000   \n",
       "50%         0.000000      10.000000  249799.500000       0.000000   \n",
       "75%         0.000000      12.000000  310266.000000       0.000000   \n",
       "max      1666.000000      98.000000  689161.000000     832.000000   \n",
       "\n",
       "             metric8        metric9  \n",
       "count  124494.000000  124494.000000  \n",
       "mean        0.292528      12.451524  \n",
       "std         7.436924     191.425623  \n",
       "min         0.000000       0.000000  \n",
       "25%         0.000000       0.000000  \n",
       "50%         0.000000       0.000000  \n",
       "75%         0.000000       0.000000  \n",
       "max       832.000000   18701.000000  "
      ]
     },
     "execution_count": 8,
     "metadata": {},
     "output_type": "execute_result"
    }
   ],
   "source": [
    "raw_data.describe()"
   ]
  },
  {
   "cell_type": "markdown",
   "metadata": {},
   "source": [
    "Looking at these statistics, we can see that the fields are on very different scales. Additionally, we can see that metrics 7 and 8 may be the same. The other important observation is that there are almost no failure entries."
   ]
  },
  {
   "cell_type": "code",
   "execution_count": 9,
   "metadata": {},
   "outputs": [
    {
     "name": "stdout",
     "output_type": "stream",
     "text": [
      "This is the failure to no failure split\n",
      "0    124388\n",
      "1       106\n",
      "Name: failure, dtype: int64\n"
     ]
    }
   ],
   "source": [
    "#Let's look at the failure spread\n",
    "print('This is the failure to no failure split' )\n",
    "print(raw_data['failure'].value_counts())"
   ]
  },
  {
   "cell_type": "code",
   "execution_count": 10,
   "metadata": {},
   "outputs": [
    {
     "name": "stdout",
     "output_type": "stream",
     "text": [
      "0\n"
     ]
    }
   ],
   "source": [
    "# Is metric 7 exactly the same as 8?\n",
    "\n",
    "print(sum(raw_data['metric7'] != raw_data['metric8']))"
   ]
  },
  {
   "cell_type": "markdown",
   "metadata": {},
   "source": [
    "Removing metric 8 since it's the same as 7."
   ]
  },
  {
   "cell_type": "code",
   "execution_count": 11,
   "metadata": {},
   "outputs": [],
   "source": [
    "#Since all entries are the same, we can remove one of them\n",
    "\n",
    "df = raw_data.drop('metric8', axis = 1)"
   ]
  },
  {
   "cell_type": "code",
   "execution_count": 12,
   "metadata": {},
   "outputs": [],
   "source": [
    "all_cols = df.columns.tolist()"
   ]
  },
  {
   "cell_type": "markdown",
   "metadata": {},
   "source": [
    "### Are any metrics categorical?"
   ]
  },
  {
   "cell_type": "code",
   "execution_count": 13,
   "metadata": {},
   "outputs": [
    {
     "name": "stdout",
     "output_type": "stream",
     "text": [
      " Out of 124494 records with no nulls, we have the following:\n",
      "\n",
      " Variable metric2 has 558 unique values and its top 10 categories encapture 0.963 of data\n",
      " metric2 Variable is populated by 0.949 percent zeros\n",
      " Excluding the top category, the top 10 (2-10) encapture 0.014 percent of the data\n",
      "\n",
      " Variable metric3 has 47 unique values and its top 10 categories encapture 0.974 of data\n",
      " metric3 Variable is populated by 0.927 percent zeros\n",
      " Excluding the top category, the top 10 (2-10) encapture 0.048 percent of the data\n",
      "\n",
      " Variable metric4 has 115 unique values and its top 10 categories encapture 0.984 of data\n",
      " metric4 Variable is populated by 0.925 percent zeros\n",
      " Excluding the top category, the top 10 (2-10) encapture 0.059 percent of the data\n",
      "\n",
      " Variable metric7 has 28 unique values and its top 10 categories encapture 1.0 of data\n",
      " metric7 Variable is populated by 0.988 percent zeros\n",
      " Excluding the top category, the top 10 (2-10) encapture 0.011 percent of the data\n",
      "\n",
      " Variable metric9 has 65 unique values and its top 10 categories encapture 0.947 of data\n",
      " metric9 Variable is populated by 0.782 percent zeros\n",
      " Excluding the top category, the top 10 (2-10) encapture 0.165 percent of the data\n"
     ]
    }
   ],
   "source": [
    "print(' Out of {} records with no nulls, we have the following:'.format(len(df)))\n",
    "\n",
    "top_n = 10 # top categories by volume we are interested in looking at \n",
    "thresh = .9 #Threshold percentage of column entries used captured by the top_n categories \n",
    "cat_var = [] #Stores categorical candidates\n",
    "for var in df.columns:\n",
    "    if df[var].value_counts(normalize=True).head(top_n).sum() > thresh and var != 'failure':\n",
    "        \n",
    "        top10_amt = round(df[var].value_counts(normalize=True).head(top_n).sum(),3)\n",
    "        \n",
    "        print('\\n Variable {} has {} unique values and its top 10 categories ' \\\n",
    "        'encapture {} of data'.format(var, len(df[var].unique()), top10_amt))\n",
    "        \n",
    "        zero_percent = round(df[df[var] == 0].shape[0]/df.shape[0],3)\n",
    "        \n",
    "        print(' {} Variable is populated by {} percent zeros'.format(var, zero_percent))\n",
    "\n",
    "        one_to_thresh =  round(df[var].value_counts(normalize=True).head(top_n)[1:top_n].sum(),3)\n",
    "        \n",
    "        print(' Excluding the top category, the top 10 (2-10) encapture {} percent '\\\n",
    "              'of the data'.format(one_to_thresh))\n",
    "\n",
    "\n",
    "       \n",
    "        cat_var.append(var)\n",
    "    "
   ]
  },
  {
   "cell_type": "markdown",
   "metadata": {},
   "source": [
    "Given the observations above, as a first pass, metrics 2, 3, 4, 7 and 9 will be turned into binaries; 0 or not 0. "
   ]
  },
  {
   "cell_type": "code",
   "execution_count": 14,
   "metadata": {},
   "outputs": [],
   "source": [
    "for binary in cat_var:\n",
    "    \n",
    "    df[binary] = np.where(df[binary] == 0, 0, 1)"
   ]
  },
  {
   "cell_type": "code",
   "execution_count": 15,
   "metadata": {},
   "outputs": [
    {
     "data": {
      "text/plain": [
       "0    0.94872\n",
       "1    0.05128\n",
       "Name: metric2, dtype: float64"
      ]
     },
     "execution_count": 15,
     "metadata": {},
     "output_type": "execute_result"
    }
   ],
   "source": [
    "#Check one\n",
    "\n",
    "df['metric2'].value_counts(normalize= True).head(10)"
   ]
  },
  {
   "cell_type": "markdown",
   "metadata": {},
   "source": [
    "Now scale data given the observed differences across metrics."
   ]
  },
  {
   "cell_type": "code",
   "execution_count": 16,
   "metadata": {},
   "outputs": [],
   "source": [
    "#metric col names\n",
    "metric_cols = df.columns.tolist()\n",
    "\n",
    "metric_cols.remove('device')\n",
    "metric_cols.remove('date')\n",
    "metric_cols.remove('failure')"
   ]
  },
  {
   "cell_type": "code",
   "execution_count": 17,
   "metadata": {},
   "outputs": [
    {
     "name": "stdout",
     "output_type": "stream",
     "text": [
      "['metric1', 'metric2', 'metric3', 'metric4', 'metric5', 'metric6', 'metric7', 'metric9']\n"
     ]
    }
   ],
   "source": [
    "print(metric_cols) "
   ]
  },
  {
   "cell_type": "code",
   "execution_count": 18,
   "metadata": {},
   "outputs": [],
   "source": [
    "#Now scale metric columns using min max scaler\n",
    "scaler = MinMaxScaler()\n",
    "\n",
    "df[metric_cols] = scaler.fit_transform(df[metric_cols]) #Min Max scaling binary columns will result in the same values"
   ]
  },
  {
   "cell_type": "markdown",
   "metadata": {},
   "source": [
    "Visualizing metrics below."
   ]
  },
  {
   "cell_type": "code",
   "execution_count": 19,
   "metadata": {
    "scrolled": false
   },
   "outputs": [
    {
     "data": {
      "text/plain": [
       "<matplotlib.axes._subplots.AxesSubplot at 0x7f9e40877dd0>"
      ]
     },
     "execution_count": 19,
     "metadata": {},
     "output_type": "execute_result"
    },
    {
     "data": {
      "image/png": "[encoded data removed]",
      "text/plain": [
       "<Figure size 432x288 with 1 Axes>"
      ]
     },
     "metadata": {
      "needs_background": "light"
     },
     "output_type": "display_data"
    }
   ],
   "source": [
    "df.boxplot(rot = 90)"
   ]
  },
  {
   "cell_type": "code",
   "execution_count": 20,
   "metadata": {},
   "outputs": [],
   "source": [
    "metrics_df = df[metric_cols]"
   ]
  },
  {
   "cell_type": "code",
   "execution_count": 21,
   "metadata": {},
   "outputs": [
    {
     "data": {
      "image/png": "[encoded data removed]",
      "text/plain": [
       "<Figure size 864x504 with 2 Axes>"
      ]
     },
     "metadata": {
      "needs_background": "light"
     },
     "output_type": "display_data"
    }
   ],
   "source": [
    "f = plt.figure(figsize=(12, 7))\n",
    "plt.matshow(metrics_df.corr(), fignum=f.number)\n",
    "plt.xticks(range(metrics_df.shape[1]), metrics_df.columns, fontsize=14, rotation=45)\n",
    "plt.yticks(range(metrics_df.shape[1]), metrics_df.columns, fontsize=14)\n",
    "cb = plt.colorbar()\n",
    "cb.ax.tick_params(labelsize=14)\n",
    "plt.title('Correlation Matrix \\n \\n \\n', fontsize=16);"
   ]
  },
  {
   "cell_type": "markdown",
   "metadata": {},
   "source": [
    "## Time Series Analysis"
   ]
  },
  {
   "cell_type": "code",
   "execution_count": 22,
   "metadata": {},
   "outputs": [
    {
     "name": "stdout",
     "output_type": "stream",
     "text": [
      "earliest date: 2015-01-01\n",
      "latest date: 2015-11-02\n"
     ]
    }
   ],
   "source": [
    "#Look at timeframe\n",
    "df['date'] =  pd.to_datetime(df['date']).dt.date\n",
    "\n",
    "print('earliest date: {}'.format(df['date'].min()))\n",
    "print('latest date: {}'.format(df['date'].max())) "
   ]
  },
  {
   "cell_type": "markdown",
   "metadata": {},
   "source": [
    "Below is a visualization of the number of entries and failures over time."
   ]
  },
  {
   "cell_type": "code",
   "execution_count": 23,
   "metadata": {},
   "outputs": [
    {
     "data": {
      "text/plain": [
       "<matplotlib.axes._subplots.AxesSubplot at 0x7f9e21ab8450>"
      ]
     },
     "execution_count": 23,
     "metadata": {},
     "output_type": "execute_result"
    },
    {
     "data": {
      "image/png": "[encoded data removed]",
      "text/plain": [
       "<Figure size 432x288 with 1 Axes>"
      ]
     },
     "metadata": {
      "needs_background": "light"
     },
     "output_type": "display_data"
    }
   ],
   "source": [
    "to_plot = df.groupby('date').agg({'device':'count', 'failure': 'sum'}).reset_index().set_index('date')\n",
    "\n",
    "to_plot.rename(columns={'device':'count'}).plot(rot = 45)"
   ]
  },
  {
   "cell_type": "markdown",
   "metadata": {},
   "source": [
    "The few failures recorded present a challenge in visualizing when presented with the entry counts. For this reason, a visualization of failures alone is included below."
   ]
  },
  {
   "cell_type": "code",
   "execution_count": 24,
   "metadata": {},
   "outputs": [
    {
     "data": {
      "text/plain": [
       "<matplotlib.axes._subplots.AxesSubplot at 0x7f9e21ab8350>"
      ]
     },
     "execution_count": 24,
     "metadata": {},
     "output_type": "execute_result"
    },
    {
     "data": {
      "image/png": "[encoded data removed]",
      "text/plain": [
       "<Figure size 432x288 with 1 Axes>"
      ]
     },
     "metadata": {
      "needs_background": "light"
     },
     "output_type": "display_data"
    }
   ],
   "source": [
    "df.groupby('date')['failure'].sum().plot(rot = 45)"
   ]
  },
  {
   "cell_type": "markdown",
   "metadata": {},
   "source": [
    "### When were devices introduced into the logs?"
   ]
  },
  {
   "cell_type": "code",
   "execution_count": 25,
   "metadata": {},
   "outputs": [
    {
     "name": "stdout",
     "output_type": "stream",
     "text": [
      "2015-01-01    1163\n",
      "2015-05-06       4\n",
      "2015-01-27       1\n",
      "2015-06-13       1\n",
      "Name: date, dtype: int64\n"
     ]
    }
   ],
   "source": [
    "print(df.groupby('device')['date'].min().value_counts())"
   ]
  },
  {
   "cell_type": "markdown",
   "metadata": {},
   "source": [
    "### How many entries do we have per device?"
   ]
  },
  {
   "cell_type": "code",
   "execution_count": 26,
   "metadata": {},
   "outputs": [
    {
     "name": "stdout",
     "output_type": "stream",
     "text": [
      "       index  device\n",
      "0   Z1F0QLC1     304\n",
      "14  W1F0FY92     304\n",
      "1   S1F0GGPP     304\n",
      "26  W1F0JXDL     304\n",
      "25  Z1F0KJDS     304\n"
     ]
    }
   ],
   "source": [
    "#Printing the top of the list \n",
    "print(df['device'].value_counts().reset_index().sort_values('device', ascending = False).head(5))"
   ]
  },
  {
   "cell_type": "code",
   "execution_count": 27,
   "metadata": {},
   "outputs": [
    {
     "name": "stdout",
     "output_type": "stream",
     "text": [
      "         index  device\n",
      "1168  W1F1DA5ÿ       1\n",
      "1167  W1F0WJFT       3\n",
      "1166  S1F04KSC       4\n",
      "1165  S1F0A1VP       5\n",
      "1088  W1F1CAKS       5\n"
     ]
    }
   ],
   "source": [
    "#Printing the bottom of the list \n",
    "\n",
    "print(df['device'].value_counts().reset_index().sort_values('device', ascending = True).head(5))"
   ]
  },
  {
   "cell_type": "code",
   "execution_count": 28,
   "metadata": {},
   "outputs": [],
   "source": [
    "#Picking an arbitrary device to see how their status progressed over time\n",
    "\n",
    "arbitrary_device_df = df[df['device']== 'Z1F0GB8A'].sort_values('date')"
   ]
  },
  {
   "cell_type": "code",
   "execution_count": 29,
   "metadata": {},
   "outputs": [
    {
     "data": {
      "text/plain": [
       "<matplotlib.axes._subplots.AxesSubplot at 0x7f9e21d2f050>"
      ]
     },
     "execution_count": 29,
     "metadata": {},
     "output_type": "execute_result"
    },
    {
     "data": {
      "image/png": "[encoded data removed]",
      "text/plain": [
       "<Figure size 432x288 with 1 Axes>"
      ]
     },
     "metadata": {
      "needs_background": "light"
     },
     "output_type": "display_data"
    }
   ],
   "source": [
    "arbitrary_device_df[['date', 'failure']].set_index('date').plot(rot = 90)"
   ]
  },
  {
   "cell_type": "code",
   "execution_count": 30,
   "metadata": {},
   "outputs": [
    {
     "data": {
      "text/plain": [
       "<matplotlib.axes._subplots.AxesSubplot at 0x7f9e2195a9d0>"
      ]
     },
     "execution_count": 30,
     "metadata": {},
     "output_type": "execute_result"
    },
    {
     "data": {
      "image/png": "[encoded data removed]",
      "text/plain": [
       "<Figure size 432x288 with 1 Axes>"
      ]
     },
     "metadata": {
      "needs_background": "light"
     },
     "output_type": "display_data"
    }
   ],
   "source": [
    "#Let's find an arbitrary device that failed\n",
    "\n",
    "arbitrary_device = df['device'][df['failure'] == 1].iloc[0]\n",
    "\n",
    "arbitrary_device_df = df[df['device'] == arbitrary_device]\n",
    "# arbitrary_device_df\n",
    "arbitrary_device_df[['date', 'failure']].set_index('date').plot(rot = 90)"
   ]
  },
  {
   "cell_type": "markdown",
   "metadata": {},
   "source": [
    "### Do devices fail more than once?"
   ]
  },
  {
   "cell_type": "code",
   "execution_count": 31,
   "metadata": {},
   "outputs": [
    {
     "data": {
      "text/html": [
       "<div>\n",
       "<style scoped>\n",
       "    .dataframe tbody tr th:only-of-type {\n",
       "        vertical-align: middle;\n",
       "    }\n",
       "\n",
       "    .dataframe tbody tr th {\n",
       "        vertical-align: top;\n",
       "    }\n",
       "\n",
       "    .dataframe thead th {\n",
       "        text-align: right;\n",
       "    }\n",
       "</style>\n",
       "<table border=\"1\" class=\"dataframe\">\n",
       "  <thead>\n",
       "    <tr style=\"text-align: right;\">\n",
       "      <th></th>\n",
       "      <th>failure</th>\n",
       "    </tr>\n",
       "    <tr>\n",
       "      <th>device</th>\n",
       "      <th></th>\n",
       "    </tr>\n",
       "  </thead>\n",
       "  <tbody>\n",
       "    <tr>\n",
       "      <th>Z1F0LSNZ</th>\n",
       "      <td>1</td>\n",
       "    </tr>\n",
       "    <tr>\n",
       "      <th>W1F1230J</th>\n",
       "      <td>1</td>\n",
       "    </tr>\n",
       "    <tr>\n",
       "      <th>Z1F0P5D9</th>\n",
       "      <td>1</td>\n",
       "    </tr>\n",
       "    <tr>\n",
       "      <th>S1F0L0DW</th>\n",
       "      <td>1</td>\n",
       "    </tr>\n",
       "    <tr>\n",
       "      <th>W1F1DQN8</th>\n",
       "      <td>1</td>\n",
       "    </tr>\n",
       "  </tbody>\n",
       "</table>\n",
       "</div>"
      ],
      "text/plain": [
       "          failure\n",
       "device           \n",
       "Z1F0LSNZ        1\n",
       "W1F1230J        1\n",
       "Z1F0P5D9        1\n",
       "S1F0L0DW        1\n",
       "W1F1DQN8        1"
      ]
     },
     "execution_count": 31,
     "metadata": {},
     "output_type": "execute_result"
    }
   ],
   "source": [
    "#Let's find any devices that failed multiple times\n",
    "\n",
    "failed_multiple = df.groupby('device').agg({'failure':'sum'}).sort_values('failure', ascending = False)\n",
    "\n",
    "failed_multiple.head()"
   ]
  },
  {
   "cell_type": "markdown",
   "metadata": {},
   "source": [
    "No devices failed more than once."
   ]
  },
  {
   "cell_type": "markdown",
   "metadata": {},
   "source": [
    "### Do any devices come back after they are fixed?"
   ]
  },
  {
   "cell_type": "code",
   "execution_count": 32,
   "metadata": {},
   "outputs": [
    {
     "data": {
      "text/html": [
       "<div>\n",
       "<style scoped>\n",
       "    .dataframe tbody tr th:only-of-type {\n",
       "        vertical-align: middle;\n",
       "    }\n",
       "\n",
       "    .dataframe tbody tr th {\n",
       "        vertical-align: top;\n",
       "    }\n",
       "\n",
       "    .dataframe thead th {\n",
       "        text-align: right;\n",
       "    }\n",
       "</style>\n",
       "<table border=\"1\" class=\"dataframe\">\n",
       "  <thead>\n",
       "    <tr style=\"text-align: right;\">\n",
       "      <th></th>\n",
       "      <th>date</th>\n",
       "      <th>device</th>\n",
       "      <th>max_date</th>\n",
       "      <th>max_date_minus_date</th>\n",
       "    </tr>\n",
       "  </thead>\n",
       "  <tbody>\n",
       "    <tr>\n",
       "      <th>77958</th>\n",
       "      <td>2015-05-05</td>\n",
       "      <td>S1F136J0</td>\n",
       "      <td>2015-05-06</td>\n",
       "      <td>1 days</td>\n",
       "    </tr>\n",
       "    <tr>\n",
       "      <th>79590</th>\n",
       "      <td>2015-05-09</td>\n",
       "      <td>W1F0KCP2</td>\n",
       "      <td>2015-05-11</td>\n",
       "      <td>2 days</td>\n",
       "    </tr>\n",
       "    <tr>\n",
       "      <th>79601</th>\n",
       "      <td>2015-05-09</td>\n",
       "      <td>W1F0M35B</td>\n",
       "      <td>2015-05-11</td>\n",
       "      <td>2 days</td>\n",
       "    </tr>\n",
       "    <tr>\n",
       "      <th>101999</th>\n",
       "      <td>2015-07-12</td>\n",
       "      <td>S1F0GPFZ</td>\n",
       "      <td>2015-07-24</td>\n",
       "      <td>12 days</td>\n",
       "    </tr>\n",
       "    <tr>\n",
       "      <th>104223</th>\n",
       "      <td>2015-07-18</td>\n",
       "      <td>W1F11ZG9</td>\n",
       "      <td>2015-08-17</td>\n",
       "      <td>30 days</td>\n",
       "    </tr>\n",
       "  </tbody>\n",
       "</table>\n",
       "</div>"
      ],
      "text/plain": [
       "              date    device    max_date max_date_minus_date\n",
       "77958   2015-05-05  S1F136J0  2015-05-06              1 days\n",
       "79590   2015-05-09  W1F0KCP2  2015-05-11              2 days\n",
       "79601   2015-05-09  W1F0M35B  2015-05-11              2 days\n",
       "101999  2015-07-12  S1F0GPFZ  2015-07-24             12 days\n",
       "104223  2015-07-18  W1F11ZG9  2015-08-17             30 days"
      ]
     },
     "execution_count": 32,
     "metadata": {},
     "output_type": "execute_result"
    }
   ],
   "source": [
    "#Get the last dates for each device\n",
    "df_date = df.groupby('device').agg({'date':max})\n",
    "\n",
    "df_date.date.to_dict()\n",
    "\n",
    "\n",
    "df['max_date']=df.device.map(df_date.date.to_dict())\n",
    "df['max_date_minus_date'] = df['max_date'] - df['date']\n",
    "\n",
    "#If a device failed and it's date is not the max date, then this device stayed on afterwards\n",
    "df_not_removed=df[(df.failure==1)&(df.date!=df.max_date)]\n",
    "\n",
    "df_not_removed = df_not_removed[['date','device', 'max_date', 'max_date_minus_date']]\n",
    "\n",
    "#Keep list of devices in case they are needed later\n",
    "fail_devices_not_removed = df_not_removed['device'].tolist()\n",
    "\n",
    "df_not_removed\n"
   ]
  },
  {
   "cell_type": "markdown",
   "metadata": {},
   "source": [
    "Removing post-failure entries for these devices as these were still recorded after failure, but the fail status is only reported once."
   ]
  },
  {
   "cell_type": "code",
   "execution_count": 33,
   "metadata": {},
   "outputs": [
    {
     "data": {
      "text/plain": [
       "(124447, 14)"
      ]
     },
     "execution_count": 33,
     "metadata": {},
     "output_type": "execute_result"
    }
   ],
   "source": [
    "fail_dates = df.groupby('device').apply(lambda x: x[x['failure'] == 1]).set_index('device')['date']\n",
    "\n",
    "df['fail_date'] = df['device'].map(fail_dates)\n",
    "\n",
    "df = df[~(df['date'] > df['fail_date'])]\n",
    "\n",
    "df.shape"
   ]
  },
  {
   "cell_type": "code",
   "execution_count": 34,
   "metadata": {},
   "outputs": [],
   "source": [
    "#Regenerate max date now that the data has been trimmed\n",
    "\n",
    "#Get the last dates for each device\n",
    "df_date = df.groupby('device').agg({'date':max})\n",
    "\n",
    "df_date.date.to_dict()\n",
    "\n",
    "\n",
    "df['max_date']=df.device.map(df_date.date.to_dict())"
   ]
  },
  {
   "cell_type": "markdown",
   "metadata": {},
   "source": [
    "### Did late start cases had enough time to fail based on what we can dicern from normal start cases?"
   ]
  },
  {
   "cell_type": "markdown",
   "metadata": {},
   "source": [
    "Looking at the typical start cases that failed first, how long did it take before they went offline?"
   ]
  },
  {
   "cell_type": "code",
   "execution_count": 35,
   "metadata": {},
   "outputs": [],
   "source": [
    "#How long does it typically take for devices to fail?\n",
    "\n",
    "normal_start = df.groupby('device').filter(lambda g: ((g['date'].min() == df['date'].min()) & \\\n",
    "                                                      (g['failure'].sum() == 1)))\n",
    "\n",
    "time_alive = normal_start.groupby('device')['date'].apply(lambda x: x.max() -x.min()).reset_index()\n",
    "\n",
    "time_alive['date'] = time_alive['date'].dt.days.astype('int16')"
   ]
  },
  {
   "cell_type": "code",
   "execution_count": 36,
   "metadata": {},
   "outputs": [
    {
     "data": {
      "image/png": "[encoded data removed]",
      "text/plain": [
       "<Figure size 432x288 with 1 Axes>"
      ]
     },
     "metadata": {
      "needs_background": "light"
     },
     "output_type": "display_data"
    }
   ],
   "source": [
    "axarr = time_alive.groupby('date').count().plot.bar()\n",
    "axarr.set_title('Time to Fail (Early Start devices that failed)')\n",
    "axarr.set_xlabel(\"Days\")\n",
    "axarr.set_ylabel(\"Counts\")\n",
    "    \n",
    "for i, t in enumerate(axarr.get_xticklabels()):\n",
    "    if (i % 5) != 0:\n",
    "        t.set_visible(False)"
   ]
  },
  {
   "cell_type": "code",
   "execution_count": 37,
   "metadata": {},
   "outputs": [
    {
     "data": {
      "text/plain": [
       "[]"
      ]
     },
     "execution_count": 37,
     "metadata": {},
     "output_type": "execute_result"
    },
    {
     "data": {
      "image/png": "[encoded data removed]",
      "text/plain": [
       "<Figure size 432x288 with 1 Axes>"
      ]
     },
     "metadata": {
      "needs_background": "light"
     },
     "output_type": "display_data"
    }
   ],
   "source": [
    "density_alive = time_alive.groupby('date').count().sort_values('date')\n",
    "\n",
    "density_alive.rename(columns={\"device\": \"Density\"}, inplace = True) \n",
    "\n",
    "density_alive['Density'] = density_alive['Density'].cumsum()/density_alive['Density'].sum()\n",
    "\n",
    "ax = density_alive.plot(title = 'Density for Devices that Failed Over Time')\n",
    "\n",
    "ax.set_ylabel(\"Percentage of Devices Failing\")\n",
    "\n",
    "ax.plot()"
   ]
  },
  {
   "cell_type": "markdown",
   "metadata": {},
   "source": [
    "By 200 days, about 80% of these devices had failed."
   ]
  },
  {
   "cell_type": "markdown",
   "metadata": {},
   "source": [
    "### Looking at late start cases that did not register a failure - how long were they in the logs?"
   ]
  },
  {
   "cell_type": "code",
   "execution_count": 38,
   "metadata": {},
   "outputs": [],
   "source": [
    "start_after_min_date = df.groupby('device').filter(lambda g: ((g['date'].min() != df['date'].min()) &\\\n",
    "                                                              (g['failure'].sum() == 0)))\n",
    "\n",
    "time_alive_late_start = start_after_min_date.groupby('device')['date'].apply(lambda x: x.max()- x.min()).reset_index()\n",
    "time_alive_late_start['date'] = time_alive_late_start['date'].dt.days.astype('int16')\n",
    "\n"
   ]
  },
  {
   "cell_type": "code",
   "execution_count": 39,
   "metadata": {},
   "outputs": [
    {
     "data": {
      "text/plain": [
       "Text(0, 0.5, 'Counts')"
      ]
     },
     "execution_count": 39,
     "metadata": {},
     "output_type": "execute_result"
    },
    {
     "data": {
      "image/png": "[encoded data removed]",
      "text/plain": [
       "<Figure size 432x288 with 1 Axes>"
      ]
     },
     "metadata": {
      "needs_background": "light"
     },
     "output_type": "display_data"
    }
   ],
   "source": [
    "axarr = time_alive_late_start.groupby('date').count().plot.bar()\n",
    "axarr.set_title('Time to Fail (Late Start devices that Did Not fail)')\n",
    "axarr.set_xlabel(\"Days\")\n",
    "axarr.set_ylabel(\"Counts\")\n",
    "    "
   ]
  },
  {
   "cell_type": "markdown",
   "metadata": {},
   "source": [
    "The 258 days alive device certainly had enough time to fail, given the density of failed cases. Now consider the 0 and 5 days devices. Why did these disappear from the logs if they didn't fail? Earlier, the dates for the late start devices were captured as 2015-05-06, 2015-01-27, 2015-06-13. It is also clear that the logs report data until November. With this in mind, it may be necessary to remove these five devices that were active for only 0 and 5 days but did not fail."
   ]
  },
  {
   "cell_type": "markdown",
   "metadata": {},
   "source": [
    "### How many other deivces never failed but were removed from logs?"
   ]
  },
  {
   "cell_type": "code",
   "execution_count": 40,
   "metadata": {},
   "outputs": [],
   "source": [
    "removed_no_fail = df.groupby('device').filter(lambda g: ((g['date'].max() != df['date'].max()) & \\\n",
    "                                                      (g['failure'].sum() == 0)))"
   ]
  },
  {
   "cell_type": "code",
   "execution_count": 41,
   "metadata": {},
   "outputs": [],
   "source": [
    "time_online = removed_no_fail.groupby('device')['date'].apply(lambda x: x.max() -x.min()).reset_index()\n",
    "time_online['date'] = time_online['date'].dt.days.astype('int16')"
   ]
  },
  {
   "cell_type": "code",
   "execution_count": 42,
   "metadata": {},
   "outputs": [
    {
     "name": "stdout",
     "output_type": "stream",
     "text": [
      "There are 1032 devices that were pulled before failing\n"
     ]
    },
    {
     "data": {
      "text/plain": [
       "[]"
      ]
     },
     "execution_count": 42,
     "metadata": {},
     "output_type": "execute_result"
    },
    {
     "data": {
      "image/png": "[encoded data removed]",
      "text/plain": [
       "<Figure size 432x288 with 1 Axes>"
      ]
     },
     "metadata": {
      "needs_background": "light"
     },
     "output_type": "display_data"
    }
   ],
   "source": [
    "density_removed = time_online.groupby('date').count().sort_values('date')\n",
    "\n",
    "print('There are {} devices that were pulled before failing'.format(density_removed['device'].sum()))\n",
    "\n",
    "density_removed.rename(columns={\"device\": \"Density\"}, inplace = True) \n",
    "\n",
    "density_removed['Density'] = density_removed['Density'].cumsum()/density_removed['Density'].sum()\n",
    "\n",
    "ax = density_removed.plot(title = 'Density for Devices that Did Not Fail and were Removed')\n",
    "\n",
    "ax.set_ylabel(\"Percentage of Devices Removed\")\n",
    "\n",
    "ax.plot()"
   ]
  },
  {
   "cell_type": "markdown",
   "metadata": {},
   "source": [
    "Interestingly, about 40% of these devices were removed without registered failure in close to 1 day. There is another significant inflection point at about 90 days that accounts for close to 65% of devices cumulatively. Finally, there is a third important inflection point at about 225 days that accounts for 80% of devices cumulatively. \n",
    "\n",
    "\n",
    "Earlier we saw that for 80% of devices that failed, we needed about 200 days. One way to tackle the imbalanced dataset would be to remove some of these entries. It may be necessary to come back to this later."
   ]
  },
  {
   "cell_type": "markdown",
   "metadata": {},
   "source": [
    "### When were they pulled?"
   ]
  },
  {
   "cell_type": "code",
   "execution_count": 43,
   "metadata": {},
   "outputs": [],
   "source": [
    "devices_pulled = time_online['device'].unique().tolist()\n",
    "\n",
    "devices_pulled_plot_df = removed_no_fail.groupby('device')['date'].apply(lambda x : x.max()).reset_index()"
   ]
  },
  {
   "cell_type": "code",
   "execution_count": 44,
   "metadata": {},
   "outputs": [
    {
     "data": {
      "text/plain": [
       "<matplotlib.axes._subplots.AxesSubplot at 0x7f9e239dddd0>"
      ]
     },
     "execution_count": 44,
     "metadata": {},
     "output_type": "execute_result"
    },
    {
     "data": {
      "image/png": "[encoded data removed]",
      "text/plain": [
       "<Figure size 432x288 with 1 Axes>"
      ]
     },
     "metadata": {
      "needs_background": "light"
     },
     "output_type": "display_data"
    }
   ],
   "source": [
    "devices_pulled_plot_df[devices_pulled_plot_df['device'].isin(devices_pulled)].\\\n",
    "groupby('date').count().plot.bar(rot = 90)"
   ]
  },
  {
   "cell_type": "markdown",
   "metadata": {},
   "source": [
    "It appears that 2015-01-05 and 2015-01-06 had a large number of devices pulled, with over 300 in just those two days. This number must correspond to the steep removal of devices (~40%) after only a few days online illustrated in the previous plot."
   ]
  },
  {
   "cell_type": "markdown",
   "metadata": {},
   "source": [
    "## Feature Engineering / Data Transformation"
   ]
  },
  {
   "cell_type": "markdown",
   "metadata": {},
   "source": [
    "It will be helpful to know how many days each device has been online as intuitively speaking, it makes sense for this to be a good signal for predictive models."
   ]
  },
  {
   "cell_type": "code",
   "execution_count": 45,
   "metadata": {},
   "outputs": [],
   "source": [
    "df['active_days'] = df.groupby('device')['date'].apply(lambda x: x - x.min())\n",
    "df['active_days'] = df['active_days'].dt.days.astype('int16')"
   ]
  },
  {
   "cell_type": "code",
   "execution_count": 46,
   "metadata": {},
   "outputs": [
    {
     "data": {
      "text/plain": [
       "[]"
      ]
     },
     "execution_count": 46,
     "metadata": {},
     "output_type": "execute_result"
    },
    {
     "data": {
      "image/png": "[encoded data removed]",
      "text/plain": [
       "<Figure size 432x288 with 1 Axes>"
      ]
     },
     "metadata": {
      "needs_background": "light"
     },
     "output_type": "display_data"
    }
   ],
   "source": [
    "fail_records = df[(~df['fail_date'].isnull()) & (df['date'] == df['max_date'])]\n",
    "\n",
    "ax = fail_records['active_days'].hist()\n",
    "\n",
    "ax.set_title(\"Active Days Before Failure\")\n",
    "ax.set_xlabel(\"Active Days\")\n",
    "ax.set_ylabel(\"Count\")\n",
    "\n",
    "ax.plot()"
   ]
  },
  {
   "cell_type": "code",
   "execution_count": 47,
   "metadata": {},
   "outputs": [
    {
     "data": {
      "text/plain": [
       "(124447, 15)"
      ]
     },
     "execution_count": 47,
     "metadata": {},
     "output_type": "execute_result"
    }
   ],
   "source": [
    "df.shape"
   ]
  },
  {
   "cell_type": "code",
   "execution_count": 48,
   "metadata": {},
   "outputs": [],
   "source": [
    "#Scaling active days as well\n",
    "\n",
    "df['active_days'] = scaler.fit_transform(np.array(df['active_days']).reshape(-1, 1))"
   ]
  },
  {
   "cell_type": "markdown",
   "metadata": {},
   "source": [
    "A downward trend is apparent. There may even appear to be two histograms overlaid, each with a separate downward trend."
   ]
  },
  {
   "cell_type": "markdown",
   "metadata": {},
   "source": [
    "### Mitigation for Imbalanced Dataset"
   ]
  },
  {
   "cell_type": "markdown",
   "metadata": {},
   "source": [
    "Given the extremely imbalanced dataset, one possible mitigation is to transform the data to the device level. The data will still be imbalanced, having 1169 unique devices and only 106 that failed, but this should be a lot less problematic.\n",
    "\n",
    "To avoid losing a lot of information with the transformation, device-level metric statistics will be captured and joined onto the transformed dataset as features. "
   ]
  },
  {
   "cell_type": "code",
   "execution_count": 49,
   "metadata": {},
   "outputs": [],
   "source": [
    "#Capture the columns that will be used to generate features with device level statistics\n",
    "metric_cols = ['metric1', 'metric2', 'metric3', 'metric4','metric5', 'metric6', 'metric7', 'metric9']"
   ]
  },
  {
   "cell_type": "code",
   "execution_count": 50,
   "metadata": {},
   "outputs": [],
   "source": [
    "#This df will contain all of our original features for the latest records available for each device\n",
    "max_df = df.groupby('device', group_keys=False).apply(lambda g: g[g['date'] == g['date'].max()])"
   ]
  },
  {
   "cell_type": "code",
   "execution_count": 51,
   "metadata": {},
   "outputs": [],
   "source": [
    "#Set up min df - will capture the 1st entry for all metrics for each device\n",
    "min_df = df.groupby('device', as_index = False).apply(lambda g: g[g['date'] == g['date'].min()]).reset_index()\n",
    "\n",
    "min_df = min_df[['device'] + metric_cols]\n",
    "\n",
    "min_df.columns = ['device'] + [col+'_min' for col in metric_cols]"
   ]
  },
  {
   "cell_type": "code",
   "execution_count": 52,
   "metadata": {},
   "outputs": [],
   "source": [
    "# #Set up mean df - will capture the mean for all metrics for each device\n",
    "mean_df = df.groupby('device', as_index = False).mean().reset_index()\n",
    "\n",
    "mean_df = mean_df[['device'] + metric_cols]\n",
    "\n",
    "mean_df.columns = ['device'] + [col+'_mean' for col in metric_cols]"
   ]
  },
  {
   "cell_type": "code",
   "execution_count": 53,
   "metadata": {},
   "outputs": [],
   "source": [
    "#Set up median df - will capture the median for all metrics for each device\n",
    "\n",
    "median_df = df.groupby('device', as_index = False).median().reset_index()\n",
    "\n",
    "median_df = median_df[['device'] + metric_cols]\n",
    "\n",
    "median_df.columns = ['device'] + [col+'_median' for col in metric_cols]"
   ]
  },
  {
   "cell_type": "code",
   "execution_count": 54,
   "metadata": {},
   "outputs": [],
   "source": [
    "#Setting up variance - will capture the variance for all metrics for each device\n",
    "\n",
    "var_df = df.groupby('device', as_index = False).var().reset_index()\n",
    "\n",
    "var_df = var_df[['device'] + metric_cols]\n",
    "\n",
    "var_df.columns = ['device'] + [col+'_var' for col in metric_cols]\n",
    "\n",
    "var_df = var_df.fillna(0) #replacing NaN with 0 for devices with only one log entry\n",
    "\n"
   ]
  },
  {
   "cell_type": "code",
   "execution_count": 55,
   "metadata": {},
   "outputs": [],
   "source": [
    "#Setting up last n mean - will capture the mean for all metrics for each device FOR THE LAST N DAYS\n",
    "l_n =5\n",
    "last_5 = df.groupby('device', group_keys=False).apply(lambda g: g[g['date'] >= g['date'].max()- \\\n",
    "                                                               timedelta(days=l_n)])\n",
    "\n",
    "last_5_grouped = last_5.groupby('device', as_index = False).mean().reset_index()\n",
    "\n",
    "last_5_grouped = last_5_grouped[['device'] + metric_cols]\n",
    "\n",
    "last_5_grouped.columns = ['device'] + [col+'_last5' for col in metric_cols]\n"
   ]
  },
  {
   "cell_type": "code",
   "execution_count": 56,
   "metadata": {},
   "outputs": [],
   "source": [
    "#List of dfs to join\n",
    "data_frames = [max_df, min_df, mean_df, median_df, var_df, last_5_grouped]\n",
    "\n",
    "#Left join all dfs\n",
    "device_level_df = reduce(lambda  left,right: pd.merge(left,right,on=['device'],\n",
    "                                            how='inner'), data_frames)\n"
   ]
  },
  {
   "cell_type": "code",
   "execution_count": 57,
   "metadata": {},
   "outputs": [
    {
     "data": {
      "text/plain": [
       "(1169, 55)"
      ]
     },
     "execution_count": 57,
     "metadata": {},
     "output_type": "execute_result"
    }
   ],
   "source": [
    "#Check new shape\n",
    "device_level_df.shape"
   ]
  },
  {
   "cell_type": "code",
   "execution_count": 58,
   "metadata": {},
   "outputs": [
    {
     "name": "stdout",
     "output_type": "stream",
     "text": [
      "fail_date    1063\n",
      "dtype: int64\n"
     ]
    }
   ],
   "source": [
    "#Check for nan/nulls\n",
    "count_nan = len(device_level_df) - device_level_df.count()\n",
    "print(count_nan[count_nan > 0])"
   ]
  },
  {
   "cell_type": "markdown",
   "metadata": {},
   "source": [
    "Only fail date, will remove it next along with other unecessary columns."
   ]
  },
  {
   "cell_type": "code",
   "execution_count": 59,
   "metadata": {},
   "outputs": [],
   "source": [
    "cols = [col for col in device_level_df.columns.tolist() if col not in\n",
    "        ['failure','date', 'device', 'max_date', 'max_date_minus_date', 'fail_date']]"
   ]
  },
  {
   "cell_type": "code",
   "execution_count": 60,
   "metadata": {},
   "outputs": [
    {
     "data": {
      "text/plain": [
       "['metric1',\n",
       " 'metric2',\n",
       " 'metric3',\n",
       " 'metric4',\n",
       " 'metric5',\n",
       " 'metric6',\n",
       " 'metric7',\n",
       " 'metric9',\n",
       " 'active_days',\n",
       " 'metric1_min',\n",
       " 'metric2_min',\n",
       " 'metric3_min',\n",
       " 'metric4_min',\n",
       " 'metric5_min',\n",
       " 'metric6_min',\n",
       " 'metric7_min',\n",
       " 'metric9_min',\n",
       " 'metric1_mean',\n",
       " 'metric2_mean',\n",
       " 'metric3_mean',\n",
       " 'metric4_mean',\n",
       " 'metric5_mean',\n",
       " 'metric6_mean',\n",
       " 'metric7_mean',\n",
       " 'metric9_mean',\n",
       " 'metric1_median',\n",
       " 'metric2_median',\n",
       " 'metric3_median',\n",
       " 'metric4_median',\n",
       " 'metric5_median',\n",
       " 'metric6_median',\n",
       " 'metric7_median',\n",
       " 'metric9_median',\n",
       " 'metric1_var',\n",
       " 'metric2_var',\n",
       " 'metric3_var',\n",
       " 'metric4_var',\n",
       " 'metric5_var',\n",
       " 'metric6_var',\n",
       " 'metric7_var',\n",
       " 'metric9_var',\n",
       " 'metric1_last5',\n",
       " 'metric2_last5',\n",
       " 'metric3_last5',\n",
       " 'metric4_last5',\n",
       " 'metric5_last5',\n",
       " 'metric6_last5',\n",
       " 'metric7_last5',\n",
       " 'metric9_last5']"
      ]
     },
     "execution_count": 60,
     "metadata": {},
     "output_type": "execute_result"
    }
   ],
   "source": [
    "cols"
   ]
  },
  {
   "cell_type": "markdown",
   "metadata": {},
   "source": [
    "The main problem building a classifier is the imbalanced nature of the dataset. If resampling methods don't work well, some devices that are clearly skewing the data could be removed. These could include devices that did not fail and were removed early in the year only after being active for a few days."
   ]
  },
  {
   "cell_type": "markdown",
   "metadata": {},
   "source": [
    "## ML Models"
   ]
  },
  {
   "cell_type": "markdown",
   "metadata": {},
   "source": [
    "To get started with a baseline, random forrest and svm models will be used with a simple train-test split."
   ]
  },
  {
   "cell_type": "code",
   "execution_count": 61,
   "metadata": {},
   "outputs": [],
   "source": [
    "#First split the data into X and y\n",
    "\n",
    "X = device_level_df[cols]\n",
    "y = device_level_df['failure']\n",
    "\n",
    "X_train, X_test, y_train, y_test = train_test_split(X, y, test_size=0.3, random_state = 99) # 70% training and 30% test\n",
    "\n"
   ]
  },
  {
   "cell_type": "markdown",
   "metadata": {},
   "source": [
    "### Random Forrest"
   ]
  },
  {
   "cell_type": "markdown",
   "metadata": {},
   "source": [
    "Tree-based models are known to perform well on imbalanced datasets."
   ]
  },
  {
   "cell_type": "code",
   "execution_count": 62,
   "metadata": {},
   "outputs": [],
   "source": [
    "rfc = RandomForestClassifier(n_estimators=200)\n",
    "\n",
    "rfc.fit(X_train, y_train)\n",
    "rfc_pred = rfc.predict(X_test)"
   ]
  },
  {
   "cell_type": "code",
   "execution_count": 63,
   "metadata": {},
   "outputs": [
    {
     "data": {
      "image/png": "[encoded data removed]",
      "text/plain": [
       "<Figure size 432x288 with 1 Axes>"
      ]
     },
     "metadata": {
      "needs_background": "light"
     },
     "output_type": "display_data"
    }
   ],
   "source": [
    "ax = plt.gca()\n",
    "rfc_disp = metrics.plot_roc_curve(rfc, X_test, y_test, ax=ax, alpha=0.8)\n",
    "plt.plot([0,1],[0,1], 'r--')\n",
    "plt.xlim([-0.001,1])\n",
    "\n",
    "plt.ylim([0,1.01])\n",
    "plt.show()"
   ]
  },
  {
   "cell_type": "code",
   "execution_count": 65,
   "metadata": {},
   "outputs": [],
   "source": [
    "from sklearn.linear_model import LogisticRegression\n",
    "\n",
    "LR = LogisticRegression()"
   ]
  },
  {
   "cell_type": "code",
   "execution_count": 66,
   "metadata": {},
   "outputs": [
    {
     "data": {
      "text/plain": [
       "LogisticRegression()"
      ]
     },
     "execution_count": 66,
     "metadata": {},
     "output_type": "execute_result"
    }
   ],
   "source": [
    "LR.fit(X_train, y_train)"
   ]
  },
  {
   "cell_type": "code",
   "execution_count": 70,
   "metadata": {},
   "outputs": [
    {
     "data": {
      "image/png": "[encoded data removed]",
      "text/plain": [
       "<Figure size 432x288 with 1 Axes>"
      ]
     },
     "metadata": {
      "needs_background": "light"
     },
     "output_type": "display_data"
    }
   ],
   "source": [
    "LR.predict(X_test)\n",
    "\n",
    "ax = plt.gca()\n",
    "rfc_disp = metrics.plot_roc_curve(LR, X_test, y_test, ax=ax, alpha=0.8)\n",
    "plt.plot([0,1],[0,1], 'r--')\n",
    "plt.xlim([-0.001,1])\n",
    "\n",
    "plt.ylim([0,1.01])\n",
    "plt.show()\n",
    "\n",
    "\n"
   ]
  },
  {
   "cell_type": "code",
   "execution_count": 79,
   "metadata": {},
   "outputs": [],
   "source": [
    "LR_probs = LR.predict_proba(X_test)\n",
    "\n",
    "\n",
    "p_fail = []\n",
    "for i in LR_probs:\n",
    "    p_fail.append(i[1])\n",
    "    \n",
    "p_fail = LR_probs[:,1]"
   ]
  },
  {
   "cell_type": "code",
   "execution_count": 80,
   "metadata": {},
   "outputs": [
    {
     "data": {
      "image/png": "[encoded data removed]",
      "text/plain": [
       "<Figure size 432x288 with 1 Axes>"
      ]
     },
     "metadata": {
      "needs_background": "light"
     },
     "output_type": "display_data"
    }
   ],
   "source": [
    "fpr, tpr, threshold = metrics.roc_curve(y_test, p_fail)\n",
    "roc_auc = metrics.auc(fpr, tpr)\n",
    "\n",
    "plt.title('Receiver Operating Characteristic')\n",
    "plt.plot(fpr, tpr, 'b', label = 'AUC = %0.2f' % roc_auc)\n",
    "plt.legend(loc = 'lower right')\n",
    "plt.plot([0, 1], [0, 1],'r--')\n",
    "plt.xlim([0, 1])\n",
    "plt.ylim([0, 1])\n",
    "plt.ylabel('True Positive Rate')\n",
    "plt.xlabel('False Positive Rate')\n",
    "plt.show()\n"
   ]
  },
  {
   "cell_type": "code",
   "execution_count": 71,
   "metadata": {},
   "outputs": [
    {
     "name": "stdout",
     "output_type": "stream",
     "text": [
      "              precision    recall  f1-score   support\n",
      "\n",
      "           0       0.93      0.98      0.96       318\n",
      "           1       0.61      0.33      0.43        33\n",
      "\n",
      "    accuracy                           0.92       351\n",
      "   macro avg       0.77      0.66      0.69       351\n",
      "weighted avg       0.90      0.92      0.91       351\n",
      "\n"
     ]
    }
   ],
   "source": [
    "LR_pred = LR.predict(X_test)\n",
    "\n",
    "print(metrics.classification_report(y_test,LR_pred))\n",
    "\n"
   ]
  },
  {
   "cell_type": "code",
   "execution_count": null,
   "metadata": {},
   "outputs": [],
   "source": []
  },
  {
   "cell_type": "markdown",
   "metadata": {},
   "source": [
    "ROC curve and and AUC look incredible, but this is only part of the story; we can't see recall here which will probably be a tough metric given the nature of the dataset."
   ]
  },
  {
   "cell_type": "code",
   "execution_count": 69,
   "metadata": {},
   "outputs": [
    {
     "name": "stdout",
     "output_type": "stream",
     "text": [
      "              precision    recall  f1-score   support\n",
      "\n",
      "           0       0.94      0.98      0.96       318\n",
      "           1       0.72      0.39      0.51        33\n",
      "\n",
      "    accuracy                           0.93       351\n",
      "   macro avg       0.83      0.69      0.74       351\n",
      "weighted avg       0.92      0.93      0.92       351\n",
      "\n"
     ]
    }
   ],
   "source": [
    "rfc_pred = rfc.predict(X_test)\n",
    "\n",
    "print(metrics.classification_report(y_test,rfc_pred))\n"
   ]
  },
  {
   "cell_type": "markdown",
   "metadata": {},
   "source": [
    "The model is great predicting class 0, as expected. Class 1 precision is okay but recall is not good."
   ]
  },
  {
   "cell_type": "code",
   "execution_count": 70,
   "metadata": {},
   "outputs": [
    {
     "data": {
      "text/plain": [
       "<sklearn.metrics._plot.confusion_matrix.ConfusionMatrixDisplay at 0x7fb6ed4b4250>"
      ]
     },
     "execution_count": 70,
     "metadata": {},
     "output_type": "execute_result"
    },
    {
     "data": {
      "image/png": "[encoded data removed]",
      "text/plain": [
       "<Figure size 432x288 with 2 Axes>"
      ]
     },
     "metadata": {
      "needs_background": "light"
     },
     "output_type": "display_data"
    }
   ],
   "source": [
    "metrics.plot_confusion_matrix(rfc, X_test, y_test, values_format = '.0f')"
   ]
  },
  {
   "cell_type": "markdown",
   "metadata": {},
   "source": [
    "Here we can see a confusion matrix to provide futher metrics used in the previous classification report."
   ]
  },
  {
   "cell_type": "markdown",
   "metadata": {},
   "source": [
    "### SVM"
   ]
  },
  {
   "cell_type": "markdown",
   "metadata": {},
   "source": [
    "Testing svm to get a sense of any potential improvements with a non tree-based model."
   ]
  },
  {
   "cell_type": "code",
   "execution_count": 71,
   "metadata": {},
   "outputs": [],
   "source": [
    "svm = LinearSVC()"
   ]
  },
  {
   "cell_type": "code",
   "execution_count": 72,
   "metadata": {},
   "outputs": [
    {
     "data": {
      "text/plain": [
       "LinearSVC()"
      ]
     },
     "execution_count": 72,
     "metadata": {},
     "output_type": "execute_result"
    }
   ],
   "source": [
    "svm.fit(X_train, y_train)"
   ]
  },
  {
   "cell_type": "code",
   "execution_count": 73,
   "metadata": {},
   "outputs": [
    {
     "data": {
      "image/png": "[encoded data removed]",
      "text/plain": [
       "<Figure size 432x288 with 1 Axes>"
      ]
     },
     "metadata": {
      "needs_background": "light"
     },
     "output_type": "display_data"
    }
   ],
   "source": [
    "ax = plt.gca()\n",
    "rfc_disp = metrics.plot_roc_curve(svm, X_test, y_test, ax=ax, alpha=0.8)\n",
    "plt.plot([0,1],[0,1], 'r--')\n",
    "plt.xlim([-0.001,1])\n",
    "\n",
    "plt.ylim([0,1.01])\n",
    "\n",
    "# svc_disp.plot(ax=ax, alpha=0.8)\n",
    "plt.show()"
   ]
  },
  {
   "cell_type": "markdown",
   "metadata": {},
   "source": [
    "SVM ROC curve looks a good bit worse thank the random forrest's."
   ]
  },
  {
   "cell_type": "code",
   "execution_count": 74,
   "metadata": {},
   "outputs": [
    {
     "name": "stdout",
     "output_type": "stream",
     "text": [
      "              precision    recall  f1-score   support\n",
      "\n",
      "           0       0.94      0.98      0.96       318\n",
      "           1       0.63      0.36      0.46        33\n",
      "\n",
      "    accuracy                           0.92       351\n",
      "   macro avg       0.78      0.67      0.71       351\n",
      "weighted avg       0.91      0.92      0.91       351\n",
      "\n"
     ]
    }
   ],
   "source": [
    "svm_pred = svm.predict(X_test)\n",
    "print(metrics.classification_report(y_test,svm_pred))"
   ]
  },
  {
   "cell_type": "markdown",
   "metadata": {},
   "source": [
    "SVM seems to be a little bit better on class 1 precision and just as bad on class 1 recall."
   ]
  },
  {
   "cell_type": "code",
   "execution_count": 75,
   "metadata": {},
   "outputs": [
    {
     "data": {
      "text/plain": [
       "<sklearn.metrics._plot.confusion_matrix.ConfusionMatrixDisplay at 0x7fb6ec0c23d0>"
      ]
     },
     "execution_count": 75,
     "metadata": {},
     "output_type": "execute_result"
    },
    {
     "data": {
      "image/png": "[encoded data removed]",
      "text/plain": [
       "<Figure size 432x288 with 2 Axes>"
      ]
     },
     "metadata": {
      "needs_background": "light"
     },
     "output_type": "display_data"
    }
   ],
   "source": [
    "metrics.plot_confusion_matrix(svm, X_test, y_test, values_format = '.0f')"
   ]
  },
  {
   "cell_type": "markdown",
   "metadata": {},
   "source": [
    "The confusion matrix further illustrates the challenges classifying class 1 false positives and negatives."
   ]
  },
  {
   "cell_type": "markdown",
   "metadata": {},
   "source": [
    "## Enhancing ML Models "
   ]
  },
  {
   "cell_type": "markdown",
   "metadata": {},
   "source": [
    "Given the imabalanced dataset, oversampling failures will be conducted to artificially balance the dataset during training."
   ]
  },
  {
   "cell_type": "markdown",
   "metadata": {},
   "source": [
    "### Oversample Test"
   ]
  },
  {
   "cell_type": "markdown",
   "metadata": {},
   "source": [
    "A simple oversampling test using imblearn is below. The implementation randomly oversamples the minority class until it equals the number of the majority class in the training set."
   ]
  },
  {
   "cell_type": "code",
   "execution_count": 76,
   "metadata": {},
   "outputs": [],
   "source": [
    "from sklearn.model_selection import StratifiedKFold\n",
    "from imblearn.over_sampling import RandomOverSampler\n",
    "from sklearn.linear_model import LogisticRegression"
   ]
  },
  {
   "cell_type": "code",
   "execution_count": 77,
   "metadata": {},
   "outputs": [],
   "source": [
    "over_sampler = RandomOverSampler(random_state=99)"
   ]
  },
  {
   "cell_type": "code",
   "execution_count": 78,
   "metadata": {},
   "outputs": [],
   "source": [
    "X_oversamp, y_oversamp = over_sampler.fit_sample(X_train, y_train)"
   ]
  },
  {
   "cell_type": "code",
   "execution_count": 79,
   "metadata": {},
   "outputs": [],
   "source": [
    "rfc = RandomForestClassifier(n_estimators=150).fit(X_oversamp, y_oversamp)"
   ]
  },
  {
   "cell_type": "code",
   "execution_count": 80,
   "metadata": {},
   "outputs": [
    {
     "name": "stdout",
     "output_type": "stream",
     "text": [
      "              precision    recall  f1-score   support\n",
      "\n",
      "           0       0.94      0.99      0.96       318\n",
      "           1       0.80      0.36      0.50        33\n",
      "\n",
      "    accuracy                           0.93       351\n",
      "   macro avg       0.87      0.68      0.73       351\n",
      "weighted avg       0.92      0.93      0.92       351\n",
      "\n"
     ]
    }
   ],
   "source": [
    "rfc_pred = rfc.predict(X_test)\n",
    "\n",
    "print(metrics.classification_report(y_test,rfc_pred))"
   ]
  },
  {
   "cell_type": "markdown",
   "metadata": {},
   "source": [
    "The oversampling seemed to help the random forrest, but we will need more robust out of sample testing and to try other models."
   ]
  },
  {
   "cell_type": "markdown",
   "metadata": {},
   "source": [
    "### Stratified k-fold, Oversampling, and Additional Models"
   ]
  },
  {
   "cell_type": "markdown",
   "metadata": {},
   "source": [
    "5 stratified kfolds will be used with oversampling to improve performance and provide a good assessment of out of sample performance. Additional classifiers will be tested as well. "
   ]
  },
  {
   "cell_type": "code",
   "execution_count": 81,
   "metadata": {},
   "outputs": [],
   "source": [
    "#Setting adaboost and gradient boosting classifers\n",
    "abc = AdaBoostClassifier(n_estimators=100)\n",
    "gbc = GradientBoostingClassifier(n_estimators=100)\n",
    "\n",
    "models = [rfc, svm, abc, gbc] #List of models to be used"
   ]
  },
  {
   "cell_type": "markdown",
   "metadata": {},
   "source": [
    "Stratified kfold ensures that the distribution of each class is enforced when breaking up the data into folds."
   ]
  },
  {
   "cell_type": "code",
   "execution_count": 82,
   "metadata": {},
   "outputs": [],
   "source": [
    "kfold = StratifiedKFold(n_splits=5, shuffle=True, random_state=99) #Stratified kfold"
   ]
  },
  {
   "cell_type": "code",
   "execution_count": 83,
   "metadata": {},
   "outputs": [
    {
     "name": "stderr",
     "output_type": "stream",
     "text": [
      "100%|██████████| 4/4 [00:08<00:00,  2.06s/it]\n"
     ]
    }
   ],
   "source": [
    "out_metrics = {} #Dictionary for performance metrics\n",
    "out_cm = {} #Dictionary for confusion matrix plots\n",
    "\n",
    "\n",
    "#For each model in model list\n",
    "for model in tqdm(models):\n",
    "    \n",
    "    kfold_metrics = []\n",
    "    kfold_cm = []\n",
    "    model_name = type(model).__name__\n",
    "\n",
    "    # enumerate the splits and train model\n",
    "    for train_ix, test_ix in kfold.split(X, y):\n",
    "        # select rows\n",
    "        train_X, test_X = X.iloc[train_ix], X.iloc[test_ix]\n",
    "        train_y, test_y = y.iloc[train_ix], y.iloc[test_ix]\n",
    "        \n",
    "\n",
    "        #Oversample failure class\n",
    "        X_oversamp, y_oversamp = over_sampler.fit_sample(train_X, train_y)\n",
    "\n",
    "        model.fit(X_oversamp, y_oversamp)\n",
    "\n",
    "        pred = model.predict(test_X)\n",
    "\n",
    "        #Get classification report\n",
    "        c_report = metrics.classification_report(test_y,pred, output_dict = True)\n",
    "                \n",
    "        #Append report to list\n",
    "        kfold_metrics.append(c_report)\n",
    "        \n",
    "        #Append confusion matrix plot to list\n",
    "        kfold_cm.append(metrics.plot_confusion_matrix(model, test_X, test_y, values_format = '.0f'))\n",
    "        plt.close()\n",
    "    \n",
    "    #Save reports and plots using dictionaries\n",
    "    out_metrics[model_name] = kfold_metrics\n",
    "    out_cm[model_name] = kfold_cm\n",
    "\n"
   ]
  },
  {
   "cell_type": "markdown",
   "metadata": {},
   "source": [
    "Classification reports for each model are averaged over folds below."
   ]
  },
  {
   "cell_type": "code",
   "execution_count": 84,
   "metadata": {},
   "outputs": [],
   "source": [
    "metric_dfs = pd.DataFrame([])\n",
    "\n",
    "#Loop over classification reports, and get average of all metrics\n",
    "for i in out_metrics.keys():\n",
    "\n",
    "    #Sum all metric reports and divide by the length\n",
    "    m_df = sum(pd.DataFrame(report) for report in out_metrics[i])/len(out_metrics[i])\n",
    "    m_df['model'] = i\n",
    "\n",
    "    metric_dfs = metric_dfs.append(m_df, ignore_index=False)\n"
   ]
  },
  {
   "cell_type": "markdown",
   "metadata": {},
   "source": [
    "## Model Evaluation"
   ]
  },
  {
   "cell_type": "markdown",
   "metadata": {},
   "source": [
    "Below is a visualization of the average classification metrics for all models across the 5 folds."
   ]
  },
  {
   "cell_type": "code",
   "execution_count": 85,
   "metadata": {},
   "outputs": [
    {
     "data": {
      "text/html": [
       "<style  type=\"text/css\" >\n",
       "    #T_308f26e4_188f_11eb_8566_f45c89a7b693row0_col1 {\n",
       "            background-color:  #2081b9;\n",
       "            color:  #000000;\n",
       "        }    #T_308f26e4_188f_11eb_8566_f45c89a7b693row0_col2 {\n",
       "            background-color:  #056ead;\n",
       "            color:  #f1f1f1;\n",
       "        }    #T_308f26e4_188f_11eb_8566_f45c89a7b693row0_col3 {\n",
       "            background-color:  #2484ba;\n",
       "            color:  #000000;\n",
       "        }    #T_308f26e4_188f_11eb_8566_f45c89a7b693row0_col4 {\n",
       "            background-color:  #187cb6;\n",
       "            color:  #000000;\n",
       "        }    #T_308f26e4_188f_11eb_8566_f45c89a7b693row0_col5 {\n",
       "            background-color:  #3d93c2;\n",
       "            color:  #000000;\n",
       "        }    #T_308f26e4_188f_11eb_8566_f45c89a7b693row1_col1 {\n",
       "            background-color:  #034165;\n",
       "            color:  #f1f1f1;\n",
       "        }    #T_308f26e4_188f_11eb_8566_f45c89a7b693row1_col2 {\n",
       "            background-color:  #c0c9e2;\n",
       "            color:  #000000;\n",
       "        }    #T_308f26e4_188f_11eb_8566_f45c89a7b693row1_col3 {\n",
       "            background-color:  #2484ba;\n",
       "            color:  #000000;\n",
       "        }    #T_308f26e4_188f_11eb_8566_f45c89a7b693row1_col4 {\n",
       "            background-color:  #bcc7e1;\n",
       "            color:  #000000;\n",
       "        }    #T_308f26e4_188f_11eb_8566_f45c89a7b693row1_col5 {\n",
       "            background-color:  #2685bb;\n",
       "            color:  #000000;\n",
       "        }    #T_308f26e4_188f_11eb_8566_f45c89a7b693row2_col1 {\n",
       "            background-color:  #04639b;\n",
       "            color:  #f1f1f1;\n",
       "        }    #T_308f26e4_188f_11eb_8566_f45c89a7b693row2_col2 {\n",
       "            background-color:  #79abd0;\n",
       "            color:  #000000;\n",
       "        }    #T_308f26e4_188f_11eb_8566_f45c89a7b693row2_col3 {\n",
       "            background-color:  #2484ba;\n",
       "            color:  #000000;\n",
       "        }    #T_308f26e4_188f_11eb_8566_f45c89a7b693row2_col4 {\n",
       "            background-color:  #81aed2;\n",
       "            color:  #000000;\n",
       "        }    #T_308f26e4_188f_11eb_8566_f45c89a7b693row2_col5 {\n",
       "            background-color:  #3991c1;\n",
       "            color:  #000000;\n",
       "        }    #T_308f26e4_188f_11eb_8566_f45c89a7b693row3_col1 {\n",
       "            background-color:  #045c90;\n",
       "            color:  #f1f1f1;\n",
       "        }    #T_308f26e4_188f_11eb_8566_f45c89a7b693row3_col2 {\n",
       "            background-color:  #fff7fb;\n",
       "            color:  #000000;\n",
       "        }    #T_308f26e4_188f_11eb_8566_f45c89a7b693row3_col3 {\n",
       "            background-color:  #fff7fb;\n",
       "            color:  #000000;\n",
       "        }    #T_308f26e4_188f_11eb_8566_f45c89a7b693row3_col4 {\n",
       "            background-color:  #fff7fb;\n",
       "            color:  #000000;\n",
       "        }    #T_308f26e4_188f_11eb_8566_f45c89a7b693row3_col5 {\n",
       "            background-color:  #8bb2d4;\n",
       "            color:  #000000;\n",
       "        }    #T_308f26e4_188f_11eb_8566_f45c89a7b693row4_col1 {\n",
       "            background-color:  #fff7fb;\n",
       "            color:  #000000;\n",
       "        }    #T_308f26e4_188f_11eb_8566_f45c89a7b693row4_col2 {\n",
       "            background-color:  #056ead;\n",
       "            color:  #f1f1f1;\n",
       "        }    #T_308f26e4_188f_11eb_8566_f45c89a7b693row4_col3 {\n",
       "            background-color:  #fff7fb;\n",
       "            color:  #000000;\n",
       "        }    #T_308f26e4_188f_11eb_8566_f45c89a7b693row4_col4 {\n",
       "            background-color:  #549cc7;\n",
       "            color:  #000000;\n",
       "        }    #T_308f26e4_188f_11eb_8566_f45c89a7b693row4_col5 {\n",
       "            background-color:  #fff7fb;\n",
       "            color:  #000000;\n",
       "        }    #T_308f26e4_188f_11eb_8566_f45c89a7b693row5_col1 {\n",
       "            background-color:  #97b7d7;\n",
       "            color:  #000000;\n",
       "        }    #T_308f26e4_188f_11eb_8566_f45c89a7b693row5_col2 {\n",
       "            background-color:  #c8cde4;\n",
       "            color:  #000000;\n",
       "        }    #T_308f26e4_188f_11eb_8566_f45c89a7b693row5_col3 {\n",
       "            background-color:  #fff7fb;\n",
       "            color:  #000000;\n",
       "        }    #T_308f26e4_188f_11eb_8566_f45c89a7b693row5_col4 {\n",
       "            background-color:  #e0deed;\n",
       "            color:  #000000;\n",
       "        }    #T_308f26e4_188f_11eb_8566_f45c89a7b693row5_col5 {\n",
       "            background-color:  #e4e1ef;\n",
       "            color:  #000000;\n",
       "        }    #T_308f26e4_188f_11eb_8566_f45c89a7b693row6_col1 {\n",
       "            background-color:  #023858;\n",
       "            color:  #f1f1f1;\n",
       "        }    #T_308f26e4_188f_11eb_8566_f45c89a7b693row6_col2 {\n",
       "            background-color:  #045d92;\n",
       "            color:  #f1f1f1;\n",
       "        }    #T_308f26e4_188f_11eb_8566_f45c89a7b693row6_col3 {\n",
       "            background-color:  #03517e;\n",
       "            color:  #f1f1f1;\n",
       "        }    #T_308f26e4_188f_11eb_8566_f45c89a7b693row6_col4 {\n",
       "            background-color:  #045c90;\n",
       "            color:  #f1f1f1;\n",
       "        }    #T_308f26e4_188f_11eb_8566_f45c89a7b693row6_col5 {\n",
       "            background-color:  #034973;\n",
       "            color:  #f1f1f1;\n",
       "        }    #T_308f26e4_188f_11eb_8566_f45c89a7b693row7_col1 {\n",
       "            background-color:  #045382;\n",
       "            color:  #f1f1f1;\n",
       "        }    #T_308f26e4_188f_11eb_8566_f45c89a7b693row7_col2 {\n",
       "            background-color:  #023b5d;\n",
       "            color:  #f1f1f1;\n",
       "        }    #T_308f26e4_188f_11eb_8566_f45c89a7b693row7_col3 {\n",
       "            background-color:  #03517e;\n",
       "            color:  #f1f1f1;\n",
       "        }    #T_308f26e4_188f_11eb_8566_f45c89a7b693row7_col4 {\n",
       "            background-color:  #034165;\n",
       "            color:  #f1f1f1;\n",
       "        }    #T_308f26e4_188f_11eb_8566_f45c89a7b693row7_col5 {\n",
       "            background-color:  #045280;\n",
       "            color:  #f1f1f1;\n",
       "        }    #T_308f26e4_188f_11eb_8566_f45c89a7b693row8_col1 {\n",
       "            background-color:  #03466e;\n",
       "            color:  #f1f1f1;\n",
       "        }    #T_308f26e4_188f_11eb_8566_f45c89a7b693row8_col2 {\n",
       "            background-color:  #03517e;\n",
       "            color:  #f1f1f1;\n",
       "        }    #T_308f26e4_188f_11eb_8566_f45c89a7b693row8_col3 {\n",
       "            background-color:  #03517e;\n",
       "            color:  #f1f1f1;\n",
       "        }    #T_308f26e4_188f_11eb_8566_f45c89a7b693row8_col4 {\n",
       "            background-color:  #045382;\n",
       "            color:  #f1f1f1;\n",
       "        }    #T_308f26e4_188f_11eb_8566_f45c89a7b693row8_col5 {\n",
       "            background-color:  #034e7b;\n",
       "            color:  #f1f1f1;\n",
       "        }    #T_308f26e4_188f_11eb_8566_f45c89a7b693row9_col1 {\n",
       "            background-color:  #023858;\n",
       "            color:  #f1f1f1;\n",
       "        }    #T_308f26e4_188f_11eb_8566_f45c89a7b693row9_col2 {\n",
       "            background-color:  #023858;\n",
       "            color:  #f1f1f1;\n",
       "        }    #T_308f26e4_188f_11eb_8566_f45c89a7b693row9_col3 {\n",
       "            background-color:  #023858;\n",
       "            color:  #f1f1f1;\n",
       "        }    #T_308f26e4_188f_11eb_8566_f45c89a7b693row9_col4 {\n",
       "            background-color:  #023858;\n",
       "            color:  #f1f1f1;\n",
       "        }    #T_308f26e4_188f_11eb_8566_f45c89a7b693row9_col5 {\n",
       "            background-color:  #023858;\n",
       "            color:  #f1f1f1;\n",
       "        }    #T_308f26e4_188f_11eb_8566_f45c89a7b693row10_col1 {\n",
       "            background-color:  #023858;\n",
       "            color:  #f1f1f1;\n",
       "        }    #T_308f26e4_188f_11eb_8566_f45c89a7b693row10_col2 {\n",
       "            background-color:  #023b5d;\n",
       "            color:  #f1f1f1;\n",
       "        }    #T_308f26e4_188f_11eb_8566_f45c89a7b693row10_col3 {\n",
       "            background-color:  #023858;\n",
       "            color:  #f1f1f1;\n",
       "        }    #T_308f26e4_188f_11eb_8566_f45c89a7b693row10_col4 {\n",
       "            background-color:  #023b5d;\n",
       "            color:  #f1f1f1;\n",
       "        }    #T_308f26e4_188f_11eb_8566_f45c89a7b693row10_col5 {\n",
       "            background-color:  #02395a;\n",
       "            color:  #f1f1f1;\n",
       "        }    #T_308f26e4_188f_11eb_8566_f45c89a7b693row11_col1 {\n",
       "            background-color:  #023858;\n",
       "            color:  #f1f1f1;\n",
       "        }    #T_308f26e4_188f_11eb_8566_f45c89a7b693row11_col2 {\n",
       "            background-color:  #023b5d;\n",
       "            color:  #f1f1f1;\n",
       "        }    #T_308f26e4_188f_11eb_8566_f45c89a7b693row11_col3 {\n",
       "            background-color:  #023858;\n",
       "            color:  #f1f1f1;\n",
       "        }    #T_308f26e4_188f_11eb_8566_f45c89a7b693row11_col4 {\n",
       "            background-color:  #023b5d;\n",
       "            color:  #f1f1f1;\n",
       "        }    #T_308f26e4_188f_11eb_8566_f45c89a7b693row11_col5 {\n",
       "            background-color:  #02395a;\n",
       "            color:  #f1f1f1;\n",
       "        }</style><table id=\"T_308f26e4_188f_11eb_8566_f45c89a7b693\" ><thead>    <tr>        <th class=\"blank level0\" ></th>        <th class=\"col_heading level0 col0\" >index</th>        <th class=\"col_heading level0 col1\" >0</th>        <th class=\"col_heading level0 col2\" >1</th>        <th class=\"col_heading level0 col3\" >accuracy</th>        <th class=\"col_heading level0 col4\" >macro avg</th>        <th class=\"col_heading level0 col5\" >weighted avg</th>        <th class=\"col_heading level0 col6\" >model</th>    </tr></thead><tbody>\n",
       "                <tr>\n",
       "                        <th id=\"T_308f26e4_188f_11eb_8566_f45c89a7b693level0_row0\" class=\"row_heading level0 row0\" >0</th>\n",
       "                        <td id=\"T_308f26e4_188f_11eb_8566_f45c89a7b693row0_col0\" class=\"data row0 col0\" >precision</td>\n",
       "                        <td id=\"T_308f26e4_188f_11eb_8566_f45c89a7b693row0_col1\" class=\"data row0 col1\" >0.955107</td>\n",
       "                        <td id=\"T_308f26e4_188f_11eb_8566_f45c89a7b693row0_col2\" class=\"data row0 col2\" >0.728187</td>\n",
       "                        <td id=\"T_308f26e4_188f_11eb_8566_f45c89a7b693row0_col3\" class=\"data row0 col3\" >0.939269</td>\n",
       "                        <td id=\"T_308f26e4_188f_11eb_8566_f45c89a7b693row0_col4\" class=\"data row0 col4\" >0.841647</td>\n",
       "                        <td id=\"T_308f26e4_188f_11eb_8566_f45c89a7b693row0_col5\" class=\"data row0 col5\" >0.934449</td>\n",
       "                        <td id=\"T_308f26e4_188f_11eb_8566_f45c89a7b693row0_col6\" class=\"data row0 col6\" >RandomForestClassifier</td>\n",
       "            </tr>\n",
       "            <tr>\n",
       "                        <th id=\"T_308f26e4_188f_11eb_8566_f45c89a7b693level0_row1\" class=\"row_heading level0 row1\" >1</th>\n",
       "                        <td id=\"T_308f26e4_188f_11eb_8566_f45c89a7b693row1_col0\" class=\"data row1 col0\" >recall</td>\n",
       "                        <td id=\"T_308f26e4_188f_11eb_8566_f45c89a7b693row1_col1\" class=\"data row1 col1\" >0.979290</td>\n",
       "                        <td id=\"T_308f26e4_188f_11eb_8566_f45c89a7b693row1_col2\" class=\"data row1 col2\" >0.538528</td>\n",
       "                        <td id=\"T_308f26e4_188f_11eb_8566_f45c89a7b693row1_col3\" class=\"data row1 col3\" >0.939269</td>\n",
       "                        <td id=\"T_308f26e4_188f_11eb_8566_f45c89a7b693row1_col4\" class=\"data row1 col4\" >0.758909</td>\n",
       "                        <td id=\"T_308f26e4_188f_11eb_8566_f45c89a7b693row1_col5\" class=\"data row1 col5\" >0.939269</td>\n",
       "                        <td id=\"T_308f26e4_188f_11eb_8566_f45c89a7b693row1_col6\" class=\"data row1 col6\" >RandomForestClassifier</td>\n",
       "            </tr>\n",
       "            <tr>\n",
       "                        <th id=\"T_308f26e4_188f_11eb_8566_f45c89a7b693level0_row2\" class=\"row_heading level0 row2\" >2</th>\n",
       "                        <td id=\"T_308f26e4_188f_11eb_8566_f45c89a7b693row2_col0\" class=\"data row2 col0\" >f1-score</td>\n",
       "                        <td id=\"T_308f26e4_188f_11eb_8566_f45c89a7b693row2_col1\" class=\"data row2 col1\" >0.967017</td>\n",
       "                        <td id=\"T_308f26e4_188f_11eb_8566_f45c89a7b693row2_col2\" class=\"data row2 col2\" >0.615612</td>\n",
       "                        <td id=\"T_308f26e4_188f_11eb_8566_f45c89a7b693row2_col3\" class=\"data row2 col3\" >0.939269</td>\n",
       "                        <td id=\"T_308f26e4_188f_11eb_8566_f45c89a7b693row2_col4\" class=\"data row2 col4\" >0.791315</td>\n",
       "                        <td id=\"T_308f26e4_188f_11eb_8566_f45c89a7b693row2_col5\" class=\"data row2 col5\" >0.935090</td>\n",
       "                        <td id=\"T_308f26e4_188f_11eb_8566_f45c89a7b693row2_col6\" class=\"data row2 col6\" >RandomForestClassifier</td>\n",
       "            </tr>\n",
       "            <tr>\n",
       "                        <th id=\"T_308f26e4_188f_11eb_8566_f45c89a7b693level0_row3\" class=\"row_heading level0 row3\" >3</th>\n",
       "                        <td id=\"T_308f26e4_188f_11eb_8566_f45c89a7b693row3_col0\" class=\"data row3 col0\" >precision</td>\n",
       "                        <td id=\"T_308f26e4_188f_11eb_8566_f45c89a7b693row3_col1\" class=\"data row3 col1\" >0.970562</td>\n",
       "                        <td id=\"T_308f26e4_188f_11eb_8566_f45c89a7b693row3_col2\" class=\"data row3 col2\" >0.415167</td>\n",
       "                        <td id=\"T_308f26e4_188f_11eb_8566_f45c89a7b693row3_col3\" class=\"data row3 col3\" >0.881952</td>\n",
       "                        <td id=\"T_308f26e4_188f_11eb_8566_f45c89a7b693row3_col4\" class=\"data row3 col4\" >0.692865</td>\n",
       "                        <td id=\"T_308f26e4_188f_11eb_8566_f45c89a7b693row3_col5\" class=\"data row3 col5\" >0.920161</td>\n",
       "                        <td id=\"T_308f26e4_188f_11eb_8566_f45c89a7b693row3_col6\" class=\"data row3 col6\" >LinearSVC</td>\n",
       "            </tr>\n",
       "            <tr>\n",
       "                        <th id=\"T_308f26e4_188f_11eb_8566_f45c89a7b693level0_row4\" class=\"row_heading level0 row4\" >4</th>\n",
       "                        <td id=\"T_308f26e4_188f_11eb_8566_f45c89a7b693row4_col0\" class=\"data row4 col0\" >recall</td>\n",
       "                        <td id=\"T_308f26e4_188f_11eb_8566_f45c89a7b693row4_col1\" class=\"data row4 col1\" >0.897444</td>\n",
       "                        <td id=\"T_308f26e4_188f_11eb_8566_f45c89a7b693row4_col2\" class=\"data row4 col2\" >0.727706</td>\n",
       "                        <td id=\"T_308f26e4_188f_11eb_8566_f45c89a7b693row4_col3\" class=\"data row4 col3\" >0.881952</td>\n",
       "                        <td id=\"T_308f26e4_188f_11eb_8566_f45c89a7b693row4_col4\" class=\"data row4 col4\" >0.812575</td>\n",
       "                        <td id=\"T_308f26e4_188f_11eb_8566_f45c89a7b693row4_col5\" class=\"data row4 col5\" >0.881952</td>\n",
       "                        <td id=\"T_308f26e4_188f_11eb_8566_f45c89a7b693row4_col6\" class=\"data row4 col6\" >LinearSVC</td>\n",
       "            </tr>\n",
       "            <tr>\n",
       "                        <th id=\"T_308f26e4_188f_11eb_8566_f45c89a7b693level0_row5\" class=\"row_heading level0 row5\" >5</th>\n",
       "                        <td id=\"T_308f26e4_188f_11eb_8566_f45c89a7b693row5_col0\" class=\"data row5 col0\" >f1-score</td>\n",
       "                        <td id=\"T_308f26e4_188f_11eb_8566_f45c89a7b693row5_col1\" class=\"data row5 col1\" >0.932516</td>\n",
       "                        <td id=\"T_308f26e4_188f_11eb_8566_f45c89a7b693row5_col2\" class=\"data row5 col2\" >0.527807</td>\n",
       "                        <td id=\"T_308f26e4_188f_11eb_8566_f45c89a7b693row5_col3\" class=\"data row5 col3\" >0.881952</td>\n",
       "                        <td id=\"T_308f26e4_188f_11eb_8566_f45c89a7b693row5_col4\" class=\"data row5 col4\" >0.730162</td>\n",
       "                        <td id=\"T_308f26e4_188f_11eb_8566_f45c89a7b693row5_col5\" class=\"data row5 col5\" >0.895758</td>\n",
       "                        <td id=\"T_308f26e4_188f_11eb_8566_f45c89a7b693row5_col6\" class=\"data row5 col6\" >LinearSVC</td>\n",
       "            </tr>\n",
       "            <tr>\n",
       "                        <th id=\"T_308f26e4_188f_11eb_8566_f45c89a7b693level0_row6\" class=\"row_heading level0 row6\" >6</th>\n",
       "                        <td id=\"T_308f26e4_188f_11eb_8566_f45c89a7b693row6_col0\" class=\"data row6 col0\" >precision</td>\n",
       "                        <td id=\"T_308f26e4_188f_11eb_8566_f45c89a7b693row6_col1\" class=\"data row6 col1\" >0.982020</td>\n",
       "                        <td id=\"T_308f26e4_188f_11eb_8566_f45c89a7b693row6_col2\" class=\"data row6 col2\" >0.768195</td>\n",
       "                        <td id=\"T_308f26e4_188f_11eb_8566_f45c89a7b693row6_col3\" class=\"data row6 col3\" >0.959800</td>\n",
       "                        <td id=\"T_308f26e4_188f_11eb_8566_f45c89a7b693row6_col4\" class=\"data row6 col4\" >0.875108</td>\n",
       "                        <td id=\"T_308f26e4_188f_11eb_8566_f45c89a7b693row6_col5\" class=\"data row6 col5\" >0.962506</td>\n",
       "                        <td id=\"T_308f26e4_188f_11eb_8566_f45c89a7b693row6_col6\" class=\"data row6 col6\" >AdaBoostClassifier</td>\n",
       "            </tr>\n",
       "            <tr>\n",
       "                        <th id=\"T_308f26e4_188f_11eb_8566_f45c89a7b693level0_row7\" class=\"row_heading level0 row7\" >7</th>\n",
       "                        <td id=\"T_308f26e4_188f_11eb_8566_f45c89a7b693row7_col0\" class=\"data row7 col0\" >recall</td>\n",
       "                        <td id=\"T_308f26e4_188f_11eb_8566_f45c89a7b693row7_col1\" class=\"data row7 col1\" >0.973634</td>\n",
       "                        <td id=\"T_308f26e4_188f_11eb_8566_f45c89a7b693row7_col2\" class=\"data row7 col2\" >0.820779</td>\n",
       "                        <td id=\"T_308f26e4_188f_11eb_8566_f45c89a7b693row7_col3\" class=\"data row7 col3\" >0.959800</td>\n",
       "                        <td id=\"T_308f26e4_188f_11eb_8566_f45c89a7b693row7_col4\" class=\"data row7 col4\" >0.897206</td>\n",
       "                        <td id=\"T_308f26e4_188f_11eb_8566_f45c89a7b693row7_col5\" class=\"data row7 col5\" >0.959800</td>\n",
       "                        <td id=\"T_308f26e4_188f_11eb_8566_f45c89a7b693row7_col6\" class=\"data row7 col6\" >AdaBoostClassifier</td>\n",
       "            </tr>\n",
       "            <tr>\n",
       "                        <th id=\"T_308f26e4_188f_11eb_8566_f45c89a7b693level0_row8\" class=\"row_heading level0 row8\" >8</th>\n",
       "                        <td id=\"T_308f26e4_188f_11eb_8566_f45c89a7b693row8_col0\" class=\"data row8 col0\" >f1-score</td>\n",
       "                        <td id=\"T_308f26e4_188f_11eb_8566_f45c89a7b693row8_col1\" class=\"data row8 col1\" >0.977748</td>\n",
       "                        <td id=\"T_308f26e4_188f_11eb_8566_f45c89a7b693row8_col2\" class=\"data row8 col2\" >0.789933</td>\n",
       "                        <td id=\"T_308f26e4_188f_11eb_8566_f45c89a7b693row8_col3\" class=\"data row8 col3\" >0.959800</td>\n",
       "                        <td id=\"T_308f26e4_188f_11eb_8566_f45c89a7b693row8_col4\" class=\"data row8 col4\" >0.883841</td>\n",
       "                        <td id=\"T_308f26e4_188f_11eb_8566_f45c89a7b693row8_col5\" class=\"data row8 col5\" >0.960661</td>\n",
       "                        <td id=\"T_308f26e4_188f_11eb_8566_f45c89a7b693row8_col6\" class=\"data row8 col6\" >AdaBoostClassifier</td>\n",
       "            </tr>\n",
       "            <tr>\n",
       "                        <th id=\"T_308f26e4_188f_11eb_8566_f45c89a7b693level0_row9\" class=\"row_heading level0 row9\" >9</th>\n",
       "                        <td id=\"T_308f26e4_188f_11eb_8566_f45c89a7b693row9_col0\" class=\"data row9 col0\" >precision</td>\n",
       "                        <td id=\"T_308f26e4_188f_11eb_8566_f45c89a7b693row9_col1\" class=\"data row9 col1\" >0.982213</td>\n",
       "                        <td id=\"T_308f26e4_188f_11eb_8566_f45c89a7b693row9_col2\" class=\"data row9 col2\" >0.827063</td>\n",
       "                        <td id=\"T_308f26e4_188f_11eb_8566_f45c89a7b693row9_col3\" class=\"data row9 col3\" >0.967499</td>\n",
       "                        <td id=\"T_308f26e4_188f_11eb_8566_f45c89a7b693row9_col4\" class=\"data row9 col4\" >0.904638</td>\n",
       "                        <td id=\"T_308f26e4_188f_11eb_8566_f45c89a7b693row9_col5\" class=\"data row9 col5\" >0.968046</td>\n",
       "                        <td id=\"T_308f26e4_188f_11eb_8566_f45c89a7b693row9_col6\" class=\"data row9 col6\" >GradientBoostingClassifier</td>\n",
       "            </tr>\n",
       "            <tr>\n",
       "                        <th id=\"T_308f26e4_188f_11eb_8566_f45c89a7b693level0_row10\" class=\"row_heading level0 row10\" >10</th>\n",
       "                        <td id=\"T_308f26e4_188f_11eb_8566_f45c89a7b693row10_col0\" class=\"data row10 col0\" >recall</td>\n",
       "                        <td id=\"T_308f26e4_188f_11eb_8566_f45c89a7b693row10_col1\" class=\"data row10 col1\" >0.982106</td>\n",
       "                        <td id=\"T_308f26e4_188f_11eb_8566_f45c89a7b693row10_col2\" class=\"data row10 col2\" >0.821212</td>\n",
       "                        <td id=\"T_308f26e4_188f_11eb_8566_f45c89a7b693row10_col3\" class=\"data row10 col3\" >0.967499</td>\n",
       "                        <td id=\"T_308f26e4_188f_11eb_8566_f45c89a7b693row10_col4\" class=\"data row10 col4\" >0.901659</td>\n",
       "                        <td id=\"T_308f26e4_188f_11eb_8566_f45c89a7b693row10_col5\" class=\"data row10 col5\" >0.967499</td>\n",
       "                        <td id=\"T_308f26e4_188f_11eb_8566_f45c89a7b693row10_col6\" class=\"data row10 col6\" >GradientBoostingClassifier</td>\n",
       "            </tr>\n",
       "            <tr>\n",
       "                        <th id=\"T_308f26e4_188f_11eb_8566_f45c89a7b693level0_row11\" class=\"row_heading level0 row11\" >11</th>\n",
       "                        <td id=\"T_308f26e4_188f_11eb_8566_f45c89a7b693row11_col0\" class=\"data row11 col0\" >f1-score</td>\n",
       "                        <td id=\"T_308f26e4_188f_11eb_8566_f45c89a7b693row11_col1\" class=\"data row11 col1\" >0.982119</td>\n",
       "                        <td id=\"T_308f26e4_188f_11eb_8566_f45c89a7b693row11_col2\" class=\"data row11 col2\" >0.820640</td>\n",
       "                        <td id=\"T_308f26e4_188f_11eb_8566_f45c89a7b693row11_col3\" class=\"data row11 col3\" >0.967499</td>\n",
       "                        <td id=\"T_308f26e4_188f_11eb_8566_f45c89a7b693row11_col4\" class=\"data row11 col4\" >0.901379</td>\n",
       "                        <td id=\"T_308f26e4_188f_11eb_8566_f45c89a7b693row11_col5\" class=\"data row11 col5\" >0.967419</td>\n",
       "                        <td id=\"T_308f26e4_188f_11eb_8566_f45c89a7b693row11_col6\" class=\"data row11 col6\" >GradientBoostingClassifier</td>\n",
       "            </tr>\n",
       "    </tbody></table>"
      ],
      "text/plain": [
       "<pandas.io.formats.style.Styler at 0x7fb6f086dc10>"
      ]
     },
     "execution_count": 85,
     "metadata": {},
     "output_type": "execute_result"
    }
   ],
   "source": [
    "#Visualizing models without support row indeces as they contain sample size and offset color map\n",
    "metric_dfs[metric_dfs.index != 'support'].reset_index().style.background_gradient()"
   ]
  },
  {
   "cell_type": "markdown",
   "metadata": {},
   "source": [
    "We've developed some good models! Gradient Boosting looks particularly good. It does excelent with class 0, as expected, but it also has average ~0.82 scores for both class 1 precision and recall. Huge improvement from the baseline random forrest and svm. Looks like the stratified kfold and resampling methods worked well!"
   ]
  },
  {
   "cell_type": "code",
   "execution_count": 86,
   "metadata": {},
   "outputs": [
    {
     "data": {
      "text/html": [
       "<div>\n",
       "<style scoped>\n",
       "    .dataframe tbody tr th:only-of-type {\n",
       "        vertical-align: middle;\n",
       "    }\n",
       "\n",
       "    .dataframe tbody tr th {\n",
       "        vertical-align: top;\n",
       "    }\n",
       "\n",
       "    .dataframe thead th {\n",
       "        text-align: right;\n",
       "    }\n",
       "</style>\n",
       "<table border=\"1\" class=\"dataframe\">\n",
       "  <thead>\n",
       "    <tr style=\"text-align: right;\">\n",
       "      <th></th>\n",
       "      <th>0</th>\n",
       "      <th>1</th>\n",
       "      <th>accuracy</th>\n",
       "      <th>macro avg</th>\n",
       "      <th>weighted avg</th>\n",
       "      <th>model</th>\n",
       "    </tr>\n",
       "  </thead>\n",
       "  <tbody>\n",
       "    <tr>\n",
       "      <th>precision</th>\n",
       "      <td>0.955107</td>\n",
       "      <td>0.728187</td>\n",
       "      <td>0.939269</td>\n",
       "      <td>0.841647</td>\n",
       "      <td>0.934449</td>\n",
       "      <td>RandomForestClassifier</td>\n",
       "    </tr>\n",
       "    <tr>\n",
       "      <th>recall</th>\n",
       "      <td>0.979290</td>\n",
       "      <td>0.538528</td>\n",
       "      <td>0.939269</td>\n",
       "      <td>0.758909</td>\n",
       "      <td>0.939269</td>\n",
       "      <td>RandomForestClassifier</td>\n",
       "    </tr>\n",
       "    <tr>\n",
       "      <th>f1-score</th>\n",
       "      <td>0.967017</td>\n",
       "      <td>0.615612</td>\n",
       "      <td>0.939269</td>\n",
       "      <td>0.791315</td>\n",
       "      <td>0.935090</td>\n",
       "      <td>RandomForestClassifier</td>\n",
       "    </tr>\n",
       "    <tr>\n",
       "      <th>support</th>\n",
       "      <td>212.600000</td>\n",
       "      <td>21.200000</td>\n",
       "      <td>0.939269</td>\n",
       "      <td>233.800000</td>\n",
       "      <td>233.800000</td>\n",
       "      <td>RandomForestClassifier</td>\n",
       "    </tr>\n",
       "    <tr>\n",
       "      <th>precision</th>\n",
       "      <td>0.970562</td>\n",
       "      <td>0.415167</td>\n",
       "      <td>0.881952</td>\n",
       "      <td>0.692865</td>\n",
       "      <td>0.920161</td>\n",
       "      <td>LinearSVC</td>\n",
       "    </tr>\n",
       "    <tr>\n",
       "      <th>recall</th>\n",
       "      <td>0.897444</td>\n",
       "      <td>0.727706</td>\n",
       "      <td>0.881952</td>\n",
       "      <td>0.812575</td>\n",
       "      <td>0.881952</td>\n",
       "      <td>LinearSVC</td>\n",
       "    </tr>\n",
       "    <tr>\n",
       "      <th>f1-score</th>\n",
       "      <td>0.932516</td>\n",
       "      <td>0.527807</td>\n",
       "      <td>0.881952</td>\n",
       "      <td>0.730162</td>\n",
       "      <td>0.895758</td>\n",
       "      <td>LinearSVC</td>\n",
       "    </tr>\n",
       "    <tr>\n",
       "      <th>support</th>\n",
       "      <td>212.600000</td>\n",
       "      <td>21.200000</td>\n",
       "      <td>0.881952</td>\n",
       "      <td>233.800000</td>\n",
       "      <td>233.800000</td>\n",
       "      <td>LinearSVC</td>\n",
       "    </tr>\n",
       "    <tr>\n",
       "      <th>precision</th>\n",
       "      <td>0.982020</td>\n",
       "      <td>0.768195</td>\n",
       "      <td>0.959800</td>\n",
       "      <td>0.875108</td>\n",
       "      <td>0.962506</td>\n",
       "      <td>AdaBoostClassifier</td>\n",
       "    </tr>\n",
       "    <tr>\n",
       "      <th>recall</th>\n",
       "      <td>0.973634</td>\n",
       "      <td>0.820779</td>\n",
       "      <td>0.959800</td>\n",
       "      <td>0.897206</td>\n",
       "      <td>0.959800</td>\n",
       "      <td>AdaBoostClassifier</td>\n",
       "    </tr>\n",
       "    <tr>\n",
       "      <th>f1-score</th>\n",
       "      <td>0.977748</td>\n",
       "      <td>0.789933</td>\n",
       "      <td>0.959800</td>\n",
       "      <td>0.883841</td>\n",
       "      <td>0.960661</td>\n",
       "      <td>AdaBoostClassifier</td>\n",
       "    </tr>\n",
       "    <tr>\n",
       "      <th>support</th>\n",
       "      <td>212.600000</td>\n",
       "      <td>21.200000</td>\n",
       "      <td>0.959800</td>\n",
       "      <td>233.800000</td>\n",
       "      <td>233.800000</td>\n",
       "      <td>AdaBoostClassifier</td>\n",
       "    </tr>\n",
       "    <tr>\n",
       "      <th>precision</th>\n",
       "      <td>0.982213</td>\n",
       "      <td>0.827063</td>\n",
       "      <td>0.967499</td>\n",
       "      <td>0.904638</td>\n",
       "      <td>0.968046</td>\n",
       "      <td>GradientBoostingClassifier</td>\n",
       "    </tr>\n",
       "    <tr>\n",
       "      <th>recall</th>\n",
       "      <td>0.982106</td>\n",
       "      <td>0.821212</td>\n",
       "      <td>0.967499</td>\n",
       "      <td>0.901659</td>\n",
       "      <td>0.967499</td>\n",
       "      <td>GradientBoostingClassifier</td>\n",
       "    </tr>\n",
       "    <tr>\n",
       "      <th>f1-score</th>\n",
       "      <td>0.982119</td>\n",
       "      <td>0.820640</td>\n",
       "      <td>0.967499</td>\n",
       "      <td>0.901379</td>\n",
       "      <td>0.967419</td>\n",
       "      <td>GradientBoostingClassifier</td>\n",
       "    </tr>\n",
       "    <tr>\n",
       "      <th>support</th>\n",
       "      <td>212.600000</td>\n",
       "      <td>21.200000</td>\n",
       "      <td>0.967499</td>\n",
       "      <td>233.800000</td>\n",
       "      <td>233.800000</td>\n",
       "      <td>GradientBoostingClassifier</td>\n",
       "    </tr>\n",
       "  </tbody>\n",
       "</table>\n",
       "</div>"
      ],
      "text/plain": [
       "                    0          1  accuracy   macro avg  weighted avg  \\\n",
       "precision    0.955107   0.728187  0.939269    0.841647      0.934449   \n",
       "recall       0.979290   0.538528  0.939269    0.758909      0.939269   \n",
       "f1-score     0.967017   0.615612  0.939269    0.791315      0.935090   \n",
       "support    212.600000  21.200000  0.939269  233.800000    233.800000   \n",
       "precision    0.970562   0.415167  0.881952    0.692865      0.920161   \n",
       "recall       0.897444   0.727706  0.881952    0.812575      0.881952   \n",
       "f1-score     0.932516   0.527807  0.881952    0.730162      0.895758   \n",
       "support    212.600000  21.200000  0.881952  233.800000    233.800000   \n",
       "precision    0.982020   0.768195  0.959800    0.875108      0.962506   \n",
       "recall       0.973634   0.820779  0.959800    0.897206      0.959800   \n",
       "f1-score     0.977748   0.789933  0.959800    0.883841      0.960661   \n",
       "support    212.600000  21.200000  0.959800  233.800000    233.800000   \n",
       "precision    0.982213   0.827063  0.967499    0.904638      0.968046   \n",
       "recall       0.982106   0.821212  0.967499    0.901659      0.967499   \n",
       "f1-score     0.982119   0.820640  0.967499    0.901379      0.967419   \n",
       "support    212.600000  21.200000  0.967499  233.800000    233.800000   \n",
       "\n",
       "                                model  \n",
       "precision      RandomForestClassifier  \n",
       "recall         RandomForestClassifier  \n",
       "f1-score       RandomForestClassifier  \n",
       "support        RandomForestClassifier  \n",
       "precision                   LinearSVC  \n",
       "recall                      LinearSVC  \n",
       "f1-score                    LinearSVC  \n",
       "support                     LinearSVC  \n",
       "precision          AdaBoostClassifier  \n",
       "recall             AdaBoostClassifier  \n",
       "f1-score           AdaBoostClassifier  \n",
       "support            AdaBoostClassifier  \n",
       "precision  GradientBoostingClassifier  \n",
       "recall     GradientBoostingClassifier  \n",
       "f1-score   GradientBoostingClassifier  \n",
       "support    GradientBoostingClassifier  "
      ]
     },
     "execution_count": 86,
     "metadata": {},
     "output_type": "execute_result"
    }
   ],
   "source": [
    "#View metrics with support row index\n",
    "metric_dfs"
   ]
  },
  {
   "cell_type": "markdown",
   "metadata": {},
   "source": [
    "Below are the confusion matrices of the champion model, Gradient Boosting."
   ]
  },
  {
   "cell_type": "code",
   "execution_count": 87,
   "metadata": {},
   "outputs": [
    {
     "data": {
      "image/png": "[encoded data removed]",
      "text/plain": [
       "<Figure size 432x288 with 2 Axes>"
      ]
     },
     "metadata": {
      "needs_background": "light"
     },
     "output_type": "display_data"
    },
    {
     "data": {
      "image/png": "[encoded data removed]",
      "text/plain": [
       "<Figure size 432x288 with 2 Axes>"
      ]
     },
     "metadata": {
      "needs_background": "light"
     },
     "output_type": "display_data"
    },
    {
     "data": {
      "image/png": "[encoded data removed]",
      "text/plain": [
       "<Figure size 432x288 with 2 Axes>"
      ]
     },
     "metadata": {
      "needs_background": "light"
     },
     "output_type": "display_data"
    },
    {
     "data": {
      "image/png": "[encoded data removed]",
      "text/plain": [
       "<Figure size 432x288 with 2 Axes>"
      ]
     },
     "metadata": {
      "needs_background": "light"
     },
     "output_type": "display_data"
    },
    {
     "data": {
      "image/png": "[encoded data removed]",
      "text/plain": [
       "<Figure size 432x288 with 2 Axes>"
      ]
     },
     "metadata": {
      "needs_background": "light"
     },
     "output_type": "display_data"
    }
   ],
   "source": [
    "for i in range(len(out_cm['GradientBoostingClassifier'])):\n",
    "    out_cm['GradientBoostingClassifier'][i].plot()"
   ]
  },
  {
   "cell_type": "markdown",
   "metadata": {},
   "source": [
    "### Conclusions and Potential Improvements"
   ]
  },
  {
   "cell_type": "markdown",
   "metadata": {},
   "source": [
    "Data Analysis, Cleaning, and Engineering:\n",
    "- In this project, we were able to understand the oddities hidden in the data, clean the data, engineer features, and transform the dataset to the device level to facilitate classification of failures in a very imbalanced dataset.\n",
    "\n",
    "ML Modeling:\n",
    " - Stratified k-fold was used to ensure a proportional number of failure entries would be present in every k fold training. \n",
    " - Additionally, oversampling of the failure class was conducted within the training dataset of each kfold.\n",
    " - Tree based models were prioritized given their versatility and capacity to perform well with imbalanced datasets; random forrest, adaboost, and gradient boosting, and SVM were used.\n",
    " \n",
    "Potential Improvements:\n",
    "- In a real world setting, it would be ideal to meet with SMEs to understand the nature of the oddities discovered in the data to further refine the records included in training and could allow robust modeling of the probability of failure given a time window\n",
    "- Additional failure data would only be helpful \n",
    "- Further analysis into each feature would be beneficial, especially the metrics that were flagged as categorical variables using a heuristic and modeled as binary indicators\n",
    "- Further ML model experimentation would be helpful as well as in depth hyperparameter tuning.\n",
    "- Deep learning models could be powerful models as a next step, perhaps LSTM to model the device sequences over time"
   ]
  }
 ],
 "metadata": {
  "kernelspec": {
   "display_name": "Python 3",
   "language": "python",
   "name": "python3"
  },
  "language_info": {
   "codemirror_mode": {
    "name": "ipython",
    "version": 3
   },
   "file_extension": ".py",
   "mimetype": "text/x-python",
   "name": "python",
   "nbconvert_exporter": "python",
   "pygments_lexer": "ipython3",
   "version": "3.7.7"
  }
 },
 "nbformat": 4,
 "nbformat_minor": 4
}
